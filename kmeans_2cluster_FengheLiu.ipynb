{
 "cells": [
  {
   "cell_type": "markdown",
   "id": "b958570a",
   "metadata": {},
   "source": [
    "<h2>Reference:</h2> \n",
    "<p>Datasets are from https://www.kaggle.com/datasets/pankajjsh06/ibm-watson-marketing-customer-value-data, https://www.kaggle.com/datasets/sobhanmoosavi/us-accidents/codepart </p>\n",
    "<p>Part of analysis uses code from MENGJIE CHEN, https://www.kaggle.com/code/mengjiechen21/ibm-watson-customer-segmentation-using-k-means</p>"
   ]
  },
  {
   "cell_type": "code",
   "execution_count": 17,
   "id": "1cbb5428",
   "metadata": {},
   "outputs": [],
   "source": [
    "import numpy as np \n",
    "import pandas as pd \n",
    "import matplotlib.pyplot as plt\n",
    "import seaborn as sns"
   ]
  },
  {
   "cell_type": "code",
   "execution_count": 18,
   "id": "4527c22d",
   "metadata": {},
   "outputs": [
    {
     "data": {
      "text/plain": [
       "State Abbreviation                object\n",
       "Accident Severity in State       float64\n",
       "Number of Accidents in State       int64\n",
       "State                             object\n",
       "Customer                          object\n",
       "Customer Lifetime Value          float64\n",
       "Response                          object\n",
       "Coverage                          object\n",
       "Education                         object\n",
       "Effective To Date                 object\n",
       "EmploymentStatus                  object\n",
       "Gender                            object\n",
       "Income                             int64\n",
       "Location Code                     object\n",
       "Marital Status                    object\n",
       "Monthly Premium Auto               int64\n",
       "Months Since Last Claim            int64\n",
       "Months Since Policy Inception      int64\n",
       "Number of Open Complaints          int64\n",
       "Number of Policies                 int64\n",
       "Policy Type                       object\n",
       "Policy                            object\n",
       "Renew Offer Type                  object\n",
       "Sales Channel                     object\n",
       "Total Claim Amount               float64\n",
       "Vehicle Class                     object\n",
       "Vehicle Size                      object\n",
       "dtype: object"
      ]
     },
     "execution_count": 18,
     "metadata": {},
     "output_type": "execute_result"
    }
   ],
   "source": [
    "df = pd.read_csv('after_merge.csv', index_col=[0])\n",
    "df.dtypes"
   ]
  },
  {
   "cell_type": "code",
   "execution_count": 19,
   "id": "80d9d102",
   "metadata": {},
   "outputs": [],
   "source": [
    "#df"
   ]
  },
  {
   "cell_type": "code",
   "execution_count": 20,
   "id": "16b63922",
   "metadata": {},
   "outputs": [],
   "source": [
    "cat1 = df.select_dtypes(include='object')\n",
    "cat2 = cat1.drop(['Customer','Effective To Date'], axis = 1)  #but Customer and Date are not categorical"
   ]
  },
  {
   "cell_type": "code",
   "execution_count": 21,
   "id": "fbdcfa91",
   "metadata": {},
   "outputs": [
    {
     "data": {
      "text/html": [
       "<div>\n",
       "<style scoped>\n",
       "    .dataframe tbody tr th:only-of-type {\n",
       "        vertical-align: middle;\n",
       "    }\n",
       "\n",
       "    .dataframe tbody tr th {\n",
       "        vertical-align: top;\n",
       "    }\n",
       "\n",
       "    .dataframe thead th {\n",
       "        text-align: right;\n",
       "    }\n",
       "</style>\n",
       "<table border=\"1\" class=\"dataframe\">\n",
       "  <thead>\n",
       "    <tr style=\"text-align: right;\">\n",
       "      <th></th>\n",
       "      <th>State Abbreviation</th>\n",
       "      <th>State</th>\n",
       "      <th>Response</th>\n",
       "      <th>Coverage</th>\n",
       "      <th>Education</th>\n",
       "      <th>EmploymentStatus</th>\n",
       "      <th>Gender</th>\n",
       "      <th>Location Code</th>\n",
       "      <th>Marital Status</th>\n",
       "      <th>Policy Type</th>\n",
       "      <th>Policy</th>\n",
       "      <th>Renew Offer Type</th>\n",
       "      <th>Sales Channel</th>\n",
       "      <th>Vehicle Class</th>\n",
       "      <th>Vehicle Size</th>\n",
       "    </tr>\n",
       "  </thead>\n",
       "  <tbody>\n",
       "    <tr>\n",
       "      <th>0</th>\n",
       "      <td>4</td>\n",
       "      <td>4</td>\n",
       "      <td>0</td>\n",
       "      <td>0</td>\n",
       "      <td>0</td>\n",
       "      <td>1</td>\n",
       "      <td>0</td>\n",
       "      <td>1</td>\n",
       "      <td>1</td>\n",
       "      <td>0</td>\n",
       "      <td>2</td>\n",
       "      <td>0</td>\n",
       "      <td>0</td>\n",
       "      <td>5</td>\n",
       "      <td>1</td>\n",
       "    </tr>\n",
       "    <tr>\n",
       "      <th>1</th>\n",
       "      <td>0</td>\n",
       "      <td>0</td>\n",
       "      <td>0</td>\n",
       "      <td>1</td>\n",
       "      <td>0</td>\n",
       "      <td>4</td>\n",
       "      <td>0</td>\n",
       "      <td>1</td>\n",
       "      <td>2</td>\n",
       "      <td>1</td>\n",
       "      <td>5</td>\n",
       "      <td>2</td>\n",
       "      <td>0</td>\n",
       "      <td>0</td>\n",
       "      <td>1</td>\n",
       "    </tr>\n",
       "    <tr>\n",
       "      <th>2</th>\n",
       "      <td>2</td>\n",
       "      <td>2</td>\n",
       "      <td>0</td>\n",
       "      <td>2</td>\n",
       "      <td>0</td>\n",
       "      <td>1</td>\n",
       "      <td>0</td>\n",
       "      <td>1</td>\n",
       "      <td>1</td>\n",
       "      <td>1</td>\n",
       "      <td>5</td>\n",
       "      <td>0</td>\n",
       "      <td>0</td>\n",
       "      <td>5</td>\n",
       "      <td>1</td>\n",
       "    </tr>\n",
       "    <tr>\n",
       "      <th>3</th>\n",
       "      <td>1</td>\n",
       "      <td>1</td>\n",
       "      <td>0</td>\n",
       "      <td>0</td>\n",
       "      <td>0</td>\n",
       "      <td>4</td>\n",
       "      <td>1</td>\n",
       "      <td>1</td>\n",
       "      <td>1</td>\n",
       "      <td>0</td>\n",
       "      <td>1</td>\n",
       "      <td>0</td>\n",
       "      <td>2</td>\n",
       "      <td>3</td>\n",
       "      <td>1</td>\n",
       "    </tr>\n",
       "    <tr>\n",
       "      <th>4</th>\n",
       "      <td>4</td>\n",
       "      <td>4</td>\n",
       "      <td>0</td>\n",
       "      <td>0</td>\n",
       "      <td>0</td>\n",
       "      <td>1</td>\n",
       "      <td>1</td>\n",
       "      <td>0</td>\n",
       "      <td>2</td>\n",
       "      <td>1</td>\n",
       "      <td>3</td>\n",
       "      <td>0</td>\n",
       "      <td>0</td>\n",
       "      <td>0</td>\n",
       "      <td>1</td>\n",
       "    </tr>\n",
       "    <tr>\n",
       "      <th>...</th>\n",
       "      <td>...</td>\n",
       "      <td>...</td>\n",
       "      <td>...</td>\n",
       "      <td>...</td>\n",
       "      <td>...</td>\n",
       "      <td>...</td>\n",
       "      <td>...</td>\n",
       "      <td>...</td>\n",
       "      <td>...</td>\n",
       "      <td>...</td>\n",
       "      <td>...</td>\n",
       "      <td>...</td>\n",
       "      <td>...</td>\n",
       "      <td>...</td>\n",
       "      <td>...</td>\n",
       "    </tr>\n",
       "    <tr>\n",
       "      <th>9129</th>\n",
       "      <td>1</td>\n",
       "      <td>1</td>\n",
       "      <td>0</td>\n",
       "      <td>0</td>\n",
       "      <td>0</td>\n",
       "      <td>1</td>\n",
       "      <td>1</td>\n",
       "      <td>2</td>\n",
       "      <td>1</td>\n",
       "      <td>1</td>\n",
       "      <td>3</td>\n",
       "      <td>1</td>\n",
       "      <td>3</td>\n",
       "      <td>0</td>\n",
       "      <td>1</td>\n",
       "    </tr>\n",
       "    <tr>\n",
       "      <th>9130</th>\n",
       "      <td>1</td>\n",
       "      <td>1</td>\n",
       "      <td>1</td>\n",
       "      <td>1</td>\n",
       "      <td>1</td>\n",
       "      <td>1</td>\n",
       "      <td>0</td>\n",
       "      <td>1</td>\n",
       "      <td>0</td>\n",
       "      <td>0</td>\n",
       "      <td>2</td>\n",
       "      <td>0</td>\n",
       "      <td>1</td>\n",
       "      <td>0</td>\n",
       "      <td>1</td>\n",
       "    </tr>\n",
       "    <tr>\n",
       "      <th>9131</th>\n",
       "      <td>1</td>\n",
       "      <td>1</td>\n",
       "      <td>0</td>\n",
       "      <td>1</td>\n",
       "      <td>0</td>\n",
       "      <td>4</td>\n",
       "      <td>1</td>\n",
       "      <td>1</td>\n",
       "      <td>2</td>\n",
       "      <td>0</td>\n",
       "      <td>1</td>\n",
       "      <td>0</td>\n",
       "      <td>1</td>\n",
       "      <td>0</td>\n",
       "      <td>1</td>\n",
       "    </tr>\n",
       "    <tr>\n",
       "      <th>9132</th>\n",
       "      <td>1</td>\n",
       "      <td>1</td>\n",
       "      <td>0</td>\n",
       "      <td>1</td>\n",
       "      <td>1</td>\n",
       "      <td>1</td>\n",
       "      <td>1</td>\n",
       "      <td>1</td>\n",
       "      <td>1</td>\n",
       "      <td>1</td>\n",
       "      <td>4</td>\n",
       "      <td>2</td>\n",
       "      <td>1</td>\n",
       "      <td>0</td>\n",
       "      <td>0</td>\n",
       "    </tr>\n",
       "    <tr>\n",
       "      <th>9133</th>\n",
       "      <td>1</td>\n",
       "      <td>1</td>\n",
       "      <td>0</td>\n",
       "      <td>1</td>\n",
       "      <td>1</td>\n",
       "      <td>4</td>\n",
       "      <td>1</td>\n",
       "      <td>1</td>\n",
       "      <td>2</td>\n",
       "      <td>0</td>\n",
       "      <td>2</td>\n",
       "      <td>3</td>\n",
       "      <td>2</td>\n",
       "      <td>5</td>\n",
       "      <td>1</td>\n",
       "    </tr>\n",
       "  </tbody>\n",
       "</table>\n",
       "<p>9134 rows × 15 columns</p>\n",
       "</div>"
      ],
      "text/plain": [
       "      State Abbreviation  State  Response  Coverage  Education  \\\n",
       "0                      4      4         0         0          0   \n",
       "1                      0      0         0         1          0   \n",
       "2                      2      2         0         2          0   \n",
       "3                      1      1         0         0          0   \n",
       "4                      4      4         0         0          0   \n",
       "...                  ...    ...       ...       ...        ...   \n",
       "9129                   1      1         0         0          0   \n",
       "9130                   1      1         1         1          1   \n",
       "9131                   1      1         0         1          0   \n",
       "9132                   1      1         0         1          1   \n",
       "9133                   1      1         0         1          1   \n",
       "\n",
       "      EmploymentStatus  Gender  Location Code  Marital Status  Policy Type  \\\n",
       "0                    1       0              1               1            0   \n",
       "1                    4       0              1               2            1   \n",
       "2                    1       0              1               1            1   \n",
       "3                    4       1              1               1            0   \n",
       "4                    1       1              0               2            1   \n",
       "...                ...     ...            ...             ...          ...   \n",
       "9129                 1       1              2               1            1   \n",
       "9130                 1       0              1               0            0   \n",
       "9131                 4       1              1               2            0   \n",
       "9132                 1       1              1               1            1   \n",
       "9133                 4       1              1               2            0   \n",
       "\n",
       "      Policy  Renew Offer Type  Sales Channel  Vehicle Class  Vehicle Size  \n",
       "0          2                 0              0              5             1  \n",
       "1          5                 2              0              0             1  \n",
       "2          5                 0              0              5             1  \n",
       "3          1                 0              2              3             1  \n",
       "4          3                 0              0              0             1  \n",
       "...      ...               ...            ...            ...           ...  \n",
       "9129       3                 1              3              0             1  \n",
       "9130       2                 0              1              0             1  \n",
       "9131       1                 0              1              0             1  \n",
       "9132       4                 2              1              0             0  \n",
       "9133       2                 3              2              5             1  \n",
       "\n",
       "[9134 rows x 15 columns]"
      ]
     },
     "execution_count": 21,
     "metadata": {},
     "output_type": "execute_result"
    }
   ],
   "source": [
    "from sklearn.preprocessing import LabelEncoder\n",
    "encoder = LabelEncoder()\n",
    "for c in cat2.columns:\n",
    "    cat2[c] = encoder.fit_transform(cat2[c])\n",
    "cat2"
   ]
  },
  {
   "cell_type": "code",
   "execution_count": 22,
   "id": "39bf17b4",
   "metadata": {},
   "outputs": [],
   "source": [
    "import statsmodels.api as sm\n",
    "from sklearn import preprocessing"
   ]
  },
  {
   "cell_type": "code",
   "execution_count": 23,
   "id": "b9b808d7",
   "metadata": {},
   "outputs": [
    {
     "data": {
      "text/html": [
       "<div>\n",
       "<style scoped>\n",
       "    .dataframe tbody tr th:only-of-type {\n",
       "        vertical-align: middle;\n",
       "    }\n",
       "\n",
       "    .dataframe tbody tr th {\n",
       "        vertical-align: top;\n",
       "    }\n",
       "\n",
       "    .dataframe thead th {\n",
       "        text-align: right;\n",
       "    }\n",
       "</style>\n",
       "<table border=\"1\" class=\"dataframe\">\n",
       "  <thead>\n",
       "    <tr style=\"text-align: right;\">\n",
       "      <th></th>\n",
       "      <th>Accident Severity in State</th>\n",
       "      <th>Number of Accidents in State</th>\n",
       "      <th>Customer Lifetime Value</th>\n",
       "      <th>Income</th>\n",
       "      <th>Monthly Premium Auto</th>\n",
       "      <th>Months Since Last Claim</th>\n",
       "      <th>Months Since Policy Inception</th>\n",
       "      <th>Number of Open Complaints</th>\n",
       "      <th>Number of Policies</th>\n",
       "      <th>Total Claim Amount</th>\n",
       "    </tr>\n",
       "  </thead>\n",
       "  <tbody>\n",
       "    <tr>\n",
       "      <th>0</th>\n",
       "      <td>2.537182</td>\n",
       "      <td>-0.848079</td>\n",
       "      <td>-0.762836</td>\n",
       "      <td>0.612794</td>\n",
       "      <td>-0.703886</td>\n",
       "      <td>1.678007</td>\n",
       "      <td>-1.543202</td>\n",
       "      <td>-0.422226</td>\n",
       "      <td>-0.822603</td>\n",
       "      <td>-0.169630</td>\n",
       "    </tr>\n",
       "    <tr>\n",
       "      <th>1</th>\n",
       "      <td>-0.333633</td>\n",
       "      <td>-0.778488</td>\n",
       "      <td>-0.149237</td>\n",
       "      <td>-1.239549</td>\n",
       "      <td>0.022690</td>\n",
       "      <td>-0.208175</td>\n",
       "      <td>-0.217322</td>\n",
       "      <td>-0.422226</td>\n",
       "      <td>2.106045</td>\n",
       "      <td>2.400606</td>\n",
       "    </tr>\n",
       "    <tr>\n",
       "      <th>2</th>\n",
       "      <td>1.574369</td>\n",
       "      <td>-0.924665</td>\n",
       "      <td>0.710597</td>\n",
       "      <td>0.365690</td>\n",
       "      <td>0.429572</td>\n",
       "      <td>0.288189</td>\n",
       "      <td>-0.360661</td>\n",
       "      <td>-0.422226</td>\n",
       "      <td>-0.404225</td>\n",
       "      <td>0.455709</td>\n",
       "    </tr>\n",
       "    <tr>\n",
       "      <th>3</th>\n",
       "      <td>-0.669515</td>\n",
       "      <td>1.369881</td>\n",
       "      <td>-0.052260</td>\n",
       "      <td>-1.239549</td>\n",
       "      <td>0.371446</td>\n",
       "      <td>0.288189</td>\n",
       "      <td>0.606873</td>\n",
       "      <td>-0.422226</td>\n",
       "      <td>1.687666</td>\n",
       "      <td>0.329750</td>\n",
       "    </tr>\n",
       "    <tr>\n",
       "      <th>4</th>\n",
       "      <td>2.537182</td>\n",
       "      <td>-0.848079</td>\n",
       "      <td>-0.755534</td>\n",
       "      <td>0.203379</td>\n",
       "      <td>-0.587634</td>\n",
       "      <td>-0.307448</td>\n",
       "      <td>-0.145653</td>\n",
       "      <td>-0.422226</td>\n",
       "      <td>-0.822603</td>\n",
       "      <td>-1.018788</td>\n",
       "    </tr>\n",
       "    <tr>\n",
       "      <th>...</th>\n",
       "      <td>...</td>\n",
       "      <td>...</td>\n",
       "      <td>...</td>\n",
       "      <td>...</td>\n",
       "      <td>...</td>\n",
       "      <td>...</td>\n",
       "      <td>...</td>\n",
       "      <td>...</td>\n",
       "      <td>...</td>\n",
       "      <td>...</td>\n",
       "    </tr>\n",
       "    <tr>\n",
       "      <th>9129</th>\n",
       "      <td>-0.669515</td>\n",
       "      <td>1.369881</td>\n",
       "      <td>2.241467</td>\n",
       "      <td>1.128497</td>\n",
       "      <td>-0.587634</td>\n",
       "      <td>0.288189</td>\n",
       "      <td>1.466904</td>\n",
       "      <td>-0.422226</td>\n",
       "      <td>-0.404225</td>\n",
       "      <td>-0.811890</td>\n",
       "    </tr>\n",
       "    <tr>\n",
       "      <th>9130</th>\n",
       "      <td>-0.669515</td>\n",
       "      <td>1.369881</td>\n",
       "      <td>-0.714372</td>\n",
       "      <td>-0.528421</td>\n",
       "      <td>-0.413256</td>\n",
       "      <td>-0.108902</td>\n",
       "      <td>-0.719007</td>\n",
       "      <td>-0.422226</td>\n",
       "      <td>-0.822603</td>\n",
       "      <td>-0.188946</td>\n",
       "    </tr>\n",
       "    <tr>\n",
       "      <th>9131</th>\n",
       "      <td>-0.669515</td>\n",
       "      <td>1.369881</td>\n",
       "      <td>0.023134</td>\n",
       "      <td>-1.239549</td>\n",
       "      <td>-0.238878</td>\n",
       "      <td>-0.605266</td>\n",
       "      <td>-0.396495</td>\n",
       "      <td>2.873088</td>\n",
       "      <td>-0.404225</td>\n",
       "      <td>1.227869</td>\n",
       "    </tr>\n",
       "    <tr>\n",
       "      <th>9132</th>\n",
       "      <td>-0.669515</td>\n",
       "      <td>1.369881</td>\n",
       "      <td>-0.069932</td>\n",
       "      <td>-0.517328</td>\n",
       "      <td>0.080816</td>\n",
       "      <td>1.876553</td>\n",
       "      <td>-1.614872</td>\n",
       "      <td>-0.422226</td>\n",
       "      <td>0.014154</td>\n",
       "      <td>0.885064</td>\n",
       "    </tr>\n",
       "    <tr>\n",
       "      <th>9133</th>\n",
       "      <td>-0.669515</td>\n",
       "      <td>1.369881</td>\n",
       "      <td>-0.784912</td>\n",
       "      <td>-1.239549</td>\n",
       "      <td>-0.471382</td>\n",
       "      <td>-1.200903</td>\n",
       "      <td>1.502738</td>\n",
       "      <td>-0.422226</td>\n",
       "      <td>-0.822603</td>\n",
       "      <td>-0.221992</td>\n",
       "    </tr>\n",
       "  </tbody>\n",
       "</table>\n",
       "<p>9134 rows × 10 columns</p>\n",
       "</div>"
      ],
      "text/plain": [
       "      Accident Severity in State  Number of Accidents in State  \\\n",
       "0                       2.537182                     -0.848079   \n",
       "1                      -0.333633                     -0.778488   \n",
       "2                       1.574369                     -0.924665   \n",
       "3                      -0.669515                      1.369881   \n",
       "4                       2.537182                     -0.848079   \n",
       "...                          ...                           ...   \n",
       "9129                   -0.669515                      1.369881   \n",
       "9130                   -0.669515                      1.369881   \n",
       "9131                   -0.669515                      1.369881   \n",
       "9132                   -0.669515                      1.369881   \n",
       "9133                   -0.669515                      1.369881   \n",
       "\n",
       "      Customer Lifetime Value    Income  Monthly Premium Auto  \\\n",
       "0                   -0.762836  0.612794             -0.703886   \n",
       "1                   -0.149237 -1.239549              0.022690   \n",
       "2                    0.710597  0.365690              0.429572   \n",
       "3                   -0.052260 -1.239549              0.371446   \n",
       "4                   -0.755534  0.203379             -0.587634   \n",
       "...                       ...       ...                   ...   \n",
       "9129                 2.241467  1.128497             -0.587634   \n",
       "9130                -0.714372 -0.528421             -0.413256   \n",
       "9131                 0.023134 -1.239549             -0.238878   \n",
       "9132                -0.069932 -0.517328              0.080816   \n",
       "9133                -0.784912 -1.239549             -0.471382   \n",
       "\n",
       "      Months Since Last Claim  Months Since Policy Inception  \\\n",
       "0                    1.678007                      -1.543202   \n",
       "1                   -0.208175                      -0.217322   \n",
       "2                    0.288189                      -0.360661   \n",
       "3                    0.288189                       0.606873   \n",
       "4                   -0.307448                      -0.145653   \n",
       "...                       ...                            ...   \n",
       "9129                 0.288189                       1.466904   \n",
       "9130                -0.108902                      -0.719007   \n",
       "9131                -0.605266                      -0.396495   \n",
       "9132                 1.876553                      -1.614872   \n",
       "9133                -1.200903                       1.502738   \n",
       "\n",
       "      Number of Open Complaints  Number of Policies  Total Claim Amount  \n",
       "0                     -0.422226           -0.822603           -0.169630  \n",
       "1                     -0.422226            2.106045            2.400606  \n",
       "2                     -0.422226           -0.404225            0.455709  \n",
       "3                     -0.422226            1.687666            0.329750  \n",
       "4                     -0.422226           -0.822603           -1.018788  \n",
       "...                         ...                 ...                 ...  \n",
       "9129                  -0.422226           -0.404225           -0.811890  \n",
       "9130                  -0.422226           -0.822603           -0.188946  \n",
       "9131                   2.873088           -0.404225            1.227869  \n",
       "9132                  -0.422226            0.014154            0.885064  \n",
       "9133                  -0.422226           -0.822603           -0.221992  \n",
       "\n",
       "[9134 rows x 10 columns]"
      ]
     },
     "execution_count": 23,
     "metadata": {},
     "output_type": "execute_result"
    }
   ],
   "source": [
    "conti = df.select_dtypes(include=['int64','float'])\n",
    "conti.reset_index(drop = True, inplace=True)\n",
    "def stan(data):\n",
    "    new_data=(data-data.mean())/data.std()\n",
    "    return new_data\n",
    "conti=stan(conti)\n",
    "conti"
   ]
  },
  {
   "cell_type": "code",
   "execution_count": 24,
   "id": "234bc078",
   "metadata": {},
   "outputs": [
    {
     "data": {
      "text/html": [
       "<div>\n",
       "<style scoped>\n",
       "    .dataframe tbody tr th:only-of-type {\n",
       "        vertical-align: middle;\n",
       "    }\n",
       "\n",
       "    .dataframe tbody tr th {\n",
       "        vertical-align: top;\n",
       "    }\n",
       "\n",
       "    .dataframe thead th {\n",
       "        text-align: right;\n",
       "    }\n",
       "</style>\n",
       "<table border=\"1\" class=\"dataframe\">\n",
       "  <thead>\n",
       "    <tr style=\"text-align: right;\">\n",
       "      <th></th>\n",
       "      <th>Accident Severity in State</th>\n",
       "      <th>Number of Accidents in State</th>\n",
       "      <th>Customer Lifetime Value</th>\n",
       "      <th>Income</th>\n",
       "      <th>Monthly Premium Auto</th>\n",
       "      <th>Months Since Last Claim</th>\n",
       "      <th>Months Since Policy Inception</th>\n",
       "      <th>Number of Open Complaints</th>\n",
       "      <th>Number of Policies</th>\n",
       "      <th>Total Claim Amount</th>\n",
       "      <th>...</th>\n",
       "      <th>EmploymentStatus</th>\n",
       "      <th>Gender</th>\n",
       "      <th>Location Code</th>\n",
       "      <th>Marital Status</th>\n",
       "      <th>Policy Type</th>\n",
       "      <th>Policy</th>\n",
       "      <th>Renew Offer Type</th>\n",
       "      <th>Sales Channel</th>\n",
       "      <th>Vehicle Class</th>\n",
       "      <th>Vehicle Size</th>\n",
       "    </tr>\n",
       "  </thead>\n",
       "  <tbody>\n",
       "    <tr>\n",
       "      <th>0</th>\n",
       "      <td>2.537182</td>\n",
       "      <td>-0.848079</td>\n",
       "      <td>-0.762836</td>\n",
       "      <td>0.612794</td>\n",
       "      <td>-0.703886</td>\n",
       "      <td>1.678007</td>\n",
       "      <td>-1.543202</td>\n",
       "      <td>-0.422226</td>\n",
       "      <td>-0.822603</td>\n",
       "      <td>-0.169630</td>\n",
       "      <td>...</td>\n",
       "      <td>1</td>\n",
       "      <td>0</td>\n",
       "      <td>1</td>\n",
       "      <td>1</td>\n",
       "      <td>0</td>\n",
       "      <td>2</td>\n",
       "      <td>0</td>\n",
       "      <td>0</td>\n",
       "      <td>5</td>\n",
       "      <td>1</td>\n",
       "    </tr>\n",
       "    <tr>\n",
       "      <th>1</th>\n",
       "      <td>-0.333633</td>\n",
       "      <td>-0.778488</td>\n",
       "      <td>-0.149237</td>\n",
       "      <td>-1.239549</td>\n",
       "      <td>0.022690</td>\n",
       "      <td>-0.208175</td>\n",
       "      <td>-0.217322</td>\n",
       "      <td>-0.422226</td>\n",
       "      <td>2.106045</td>\n",
       "      <td>2.400606</td>\n",
       "      <td>...</td>\n",
       "      <td>4</td>\n",
       "      <td>0</td>\n",
       "      <td>1</td>\n",
       "      <td>2</td>\n",
       "      <td>1</td>\n",
       "      <td>5</td>\n",
       "      <td>2</td>\n",
       "      <td>0</td>\n",
       "      <td>0</td>\n",
       "      <td>1</td>\n",
       "    </tr>\n",
       "    <tr>\n",
       "      <th>2</th>\n",
       "      <td>1.574369</td>\n",
       "      <td>-0.924665</td>\n",
       "      <td>0.710597</td>\n",
       "      <td>0.365690</td>\n",
       "      <td>0.429572</td>\n",
       "      <td>0.288189</td>\n",
       "      <td>-0.360661</td>\n",
       "      <td>-0.422226</td>\n",
       "      <td>-0.404225</td>\n",
       "      <td>0.455709</td>\n",
       "      <td>...</td>\n",
       "      <td>1</td>\n",
       "      <td>0</td>\n",
       "      <td>1</td>\n",
       "      <td>1</td>\n",
       "      <td>1</td>\n",
       "      <td>5</td>\n",
       "      <td>0</td>\n",
       "      <td>0</td>\n",
       "      <td>5</td>\n",
       "      <td>1</td>\n",
       "    </tr>\n",
       "    <tr>\n",
       "      <th>3</th>\n",
       "      <td>-0.669515</td>\n",
       "      <td>1.369881</td>\n",
       "      <td>-0.052260</td>\n",
       "      <td>-1.239549</td>\n",
       "      <td>0.371446</td>\n",
       "      <td>0.288189</td>\n",
       "      <td>0.606873</td>\n",
       "      <td>-0.422226</td>\n",
       "      <td>1.687666</td>\n",
       "      <td>0.329750</td>\n",
       "      <td>...</td>\n",
       "      <td>4</td>\n",
       "      <td>1</td>\n",
       "      <td>1</td>\n",
       "      <td>1</td>\n",
       "      <td>0</td>\n",
       "      <td>1</td>\n",
       "      <td>0</td>\n",
       "      <td>2</td>\n",
       "      <td>3</td>\n",
       "      <td>1</td>\n",
       "    </tr>\n",
       "    <tr>\n",
       "      <th>4</th>\n",
       "      <td>2.537182</td>\n",
       "      <td>-0.848079</td>\n",
       "      <td>-0.755534</td>\n",
       "      <td>0.203379</td>\n",
       "      <td>-0.587634</td>\n",
       "      <td>-0.307448</td>\n",
       "      <td>-0.145653</td>\n",
       "      <td>-0.422226</td>\n",
       "      <td>-0.822603</td>\n",
       "      <td>-1.018788</td>\n",
       "      <td>...</td>\n",
       "      <td>1</td>\n",
       "      <td>1</td>\n",
       "      <td>0</td>\n",
       "      <td>2</td>\n",
       "      <td>1</td>\n",
       "      <td>3</td>\n",
       "      <td>0</td>\n",
       "      <td>0</td>\n",
       "      <td>0</td>\n",
       "      <td>1</td>\n",
       "    </tr>\n",
       "    <tr>\n",
       "      <th>...</th>\n",
       "      <td>...</td>\n",
       "      <td>...</td>\n",
       "      <td>...</td>\n",
       "      <td>...</td>\n",
       "      <td>...</td>\n",
       "      <td>...</td>\n",
       "      <td>...</td>\n",
       "      <td>...</td>\n",
       "      <td>...</td>\n",
       "      <td>...</td>\n",
       "      <td>...</td>\n",
       "      <td>...</td>\n",
       "      <td>...</td>\n",
       "      <td>...</td>\n",
       "      <td>...</td>\n",
       "      <td>...</td>\n",
       "      <td>...</td>\n",
       "      <td>...</td>\n",
       "      <td>...</td>\n",
       "      <td>...</td>\n",
       "      <td>...</td>\n",
       "    </tr>\n",
       "    <tr>\n",
       "      <th>9129</th>\n",
       "      <td>-0.669515</td>\n",
       "      <td>1.369881</td>\n",
       "      <td>2.241467</td>\n",
       "      <td>1.128497</td>\n",
       "      <td>-0.587634</td>\n",
       "      <td>0.288189</td>\n",
       "      <td>1.466904</td>\n",
       "      <td>-0.422226</td>\n",
       "      <td>-0.404225</td>\n",
       "      <td>-0.811890</td>\n",
       "      <td>...</td>\n",
       "      <td>1</td>\n",
       "      <td>1</td>\n",
       "      <td>2</td>\n",
       "      <td>1</td>\n",
       "      <td>1</td>\n",
       "      <td>3</td>\n",
       "      <td>1</td>\n",
       "      <td>3</td>\n",
       "      <td>0</td>\n",
       "      <td>1</td>\n",
       "    </tr>\n",
       "    <tr>\n",
       "      <th>9130</th>\n",
       "      <td>-0.669515</td>\n",
       "      <td>1.369881</td>\n",
       "      <td>-0.714372</td>\n",
       "      <td>-0.528421</td>\n",
       "      <td>-0.413256</td>\n",
       "      <td>-0.108902</td>\n",
       "      <td>-0.719007</td>\n",
       "      <td>-0.422226</td>\n",
       "      <td>-0.822603</td>\n",
       "      <td>-0.188946</td>\n",
       "      <td>...</td>\n",
       "      <td>1</td>\n",
       "      <td>0</td>\n",
       "      <td>1</td>\n",
       "      <td>0</td>\n",
       "      <td>0</td>\n",
       "      <td>2</td>\n",
       "      <td>0</td>\n",
       "      <td>1</td>\n",
       "      <td>0</td>\n",
       "      <td>1</td>\n",
       "    </tr>\n",
       "    <tr>\n",
       "      <th>9131</th>\n",
       "      <td>-0.669515</td>\n",
       "      <td>1.369881</td>\n",
       "      <td>0.023134</td>\n",
       "      <td>-1.239549</td>\n",
       "      <td>-0.238878</td>\n",
       "      <td>-0.605266</td>\n",
       "      <td>-0.396495</td>\n",
       "      <td>2.873088</td>\n",
       "      <td>-0.404225</td>\n",
       "      <td>1.227869</td>\n",
       "      <td>...</td>\n",
       "      <td>4</td>\n",
       "      <td>1</td>\n",
       "      <td>1</td>\n",
       "      <td>2</td>\n",
       "      <td>0</td>\n",
       "      <td>1</td>\n",
       "      <td>0</td>\n",
       "      <td>1</td>\n",
       "      <td>0</td>\n",
       "      <td>1</td>\n",
       "    </tr>\n",
       "    <tr>\n",
       "      <th>9132</th>\n",
       "      <td>-0.669515</td>\n",
       "      <td>1.369881</td>\n",
       "      <td>-0.069932</td>\n",
       "      <td>-0.517328</td>\n",
       "      <td>0.080816</td>\n",
       "      <td>1.876553</td>\n",
       "      <td>-1.614872</td>\n",
       "      <td>-0.422226</td>\n",
       "      <td>0.014154</td>\n",
       "      <td>0.885064</td>\n",
       "      <td>...</td>\n",
       "      <td>1</td>\n",
       "      <td>1</td>\n",
       "      <td>1</td>\n",
       "      <td>1</td>\n",
       "      <td>1</td>\n",
       "      <td>4</td>\n",
       "      <td>2</td>\n",
       "      <td>1</td>\n",
       "      <td>0</td>\n",
       "      <td>0</td>\n",
       "    </tr>\n",
       "    <tr>\n",
       "      <th>9133</th>\n",
       "      <td>-0.669515</td>\n",
       "      <td>1.369881</td>\n",
       "      <td>-0.784912</td>\n",
       "      <td>-1.239549</td>\n",
       "      <td>-0.471382</td>\n",
       "      <td>-1.200903</td>\n",
       "      <td>1.502738</td>\n",
       "      <td>-0.422226</td>\n",
       "      <td>-0.822603</td>\n",
       "      <td>-0.221992</td>\n",
       "      <td>...</td>\n",
       "      <td>4</td>\n",
       "      <td>1</td>\n",
       "      <td>1</td>\n",
       "      <td>2</td>\n",
       "      <td>0</td>\n",
       "      <td>2</td>\n",
       "      <td>3</td>\n",
       "      <td>2</td>\n",
       "      <td>5</td>\n",
       "      <td>1</td>\n",
       "    </tr>\n",
       "  </tbody>\n",
       "</table>\n",
       "<p>9134 rows × 25 columns</p>\n",
       "</div>"
      ],
      "text/plain": [
       "      Accident Severity in State  Number of Accidents in State  \\\n",
       "0                       2.537182                     -0.848079   \n",
       "1                      -0.333633                     -0.778488   \n",
       "2                       1.574369                     -0.924665   \n",
       "3                      -0.669515                      1.369881   \n",
       "4                       2.537182                     -0.848079   \n",
       "...                          ...                           ...   \n",
       "9129                   -0.669515                      1.369881   \n",
       "9130                   -0.669515                      1.369881   \n",
       "9131                   -0.669515                      1.369881   \n",
       "9132                   -0.669515                      1.369881   \n",
       "9133                   -0.669515                      1.369881   \n",
       "\n",
       "      Customer Lifetime Value    Income  Monthly Premium Auto  \\\n",
       "0                   -0.762836  0.612794             -0.703886   \n",
       "1                   -0.149237 -1.239549              0.022690   \n",
       "2                    0.710597  0.365690              0.429572   \n",
       "3                   -0.052260 -1.239549              0.371446   \n",
       "4                   -0.755534  0.203379             -0.587634   \n",
       "...                       ...       ...                   ...   \n",
       "9129                 2.241467  1.128497             -0.587634   \n",
       "9130                -0.714372 -0.528421             -0.413256   \n",
       "9131                 0.023134 -1.239549             -0.238878   \n",
       "9132                -0.069932 -0.517328              0.080816   \n",
       "9133                -0.784912 -1.239549             -0.471382   \n",
       "\n",
       "      Months Since Last Claim  Months Since Policy Inception  \\\n",
       "0                    1.678007                      -1.543202   \n",
       "1                   -0.208175                      -0.217322   \n",
       "2                    0.288189                      -0.360661   \n",
       "3                    0.288189                       0.606873   \n",
       "4                   -0.307448                      -0.145653   \n",
       "...                       ...                            ...   \n",
       "9129                 0.288189                       1.466904   \n",
       "9130                -0.108902                      -0.719007   \n",
       "9131                -0.605266                      -0.396495   \n",
       "9132                 1.876553                      -1.614872   \n",
       "9133                -1.200903                       1.502738   \n",
       "\n",
       "      Number of Open Complaints  Number of Policies  Total Claim Amount  ...  \\\n",
       "0                     -0.422226           -0.822603           -0.169630  ...   \n",
       "1                     -0.422226            2.106045            2.400606  ...   \n",
       "2                     -0.422226           -0.404225            0.455709  ...   \n",
       "3                     -0.422226            1.687666            0.329750  ...   \n",
       "4                     -0.422226           -0.822603           -1.018788  ...   \n",
       "...                         ...                 ...                 ...  ...   \n",
       "9129                  -0.422226           -0.404225           -0.811890  ...   \n",
       "9130                  -0.422226           -0.822603           -0.188946  ...   \n",
       "9131                   2.873088           -0.404225            1.227869  ...   \n",
       "9132                  -0.422226            0.014154            0.885064  ...   \n",
       "9133                  -0.422226           -0.822603           -0.221992  ...   \n",
       "\n",
       "      EmploymentStatus  Gender  Location Code  Marital Status  Policy Type  \\\n",
       "0                    1       0              1               1            0   \n",
       "1                    4       0              1               2            1   \n",
       "2                    1       0              1               1            1   \n",
       "3                    4       1              1               1            0   \n",
       "4                    1       1              0               2            1   \n",
       "...                ...     ...            ...             ...          ...   \n",
       "9129                 1       1              2               1            1   \n",
       "9130                 1       0              1               0            0   \n",
       "9131                 4       1              1               2            0   \n",
       "9132                 1       1              1               1            1   \n",
       "9133                 4       1              1               2            0   \n",
       "\n",
       "      Policy  Renew Offer Type  Sales Channel  Vehicle Class  Vehicle Size  \n",
       "0          2                 0              0              5             1  \n",
       "1          5                 2              0              0             1  \n",
       "2          5                 0              0              5             1  \n",
       "3          1                 0              2              3             1  \n",
       "4          3                 0              0              0             1  \n",
       "...      ...               ...            ...            ...           ...  \n",
       "9129       3                 1              3              0             1  \n",
       "9130       2                 0              1              0             1  \n",
       "9131       1                 0              1              0             1  \n",
       "9132       4                 2              1              0             0  \n",
       "9133       2                 3              2              5             1  \n",
       "\n",
       "[9134 rows x 25 columns]"
      ]
     },
     "execution_count": 24,
     "metadata": {},
     "output_type": "execute_result"
    }
   ],
   "source": [
    "preprocessing.scale(conti,axis=0, with_mean=True, with_std=True, copy=True)\n",
    "cat2.reset_index(drop = True, inplace=True)\n",
    "all_data_df = pd.concat([conti,cat2], axis = 1)\n",
    "all_data_df"
   ]
  },
  {
   "cell_type": "code",
   "execution_count": 25,
   "id": "836fda32",
   "metadata": {},
   "outputs": [],
   "source": [
    "from sklearn import linear_model"
   ]
  },
  {
   "cell_type": "code",
   "execution_count": 26,
   "id": "0c1323af",
   "metadata": {},
   "outputs": [
    {
     "data": {
      "text/html": [
       "<div>\n",
       "<style scoped>\n",
       "    .dataframe tbody tr th:only-of-type {\n",
       "        vertical-align: middle;\n",
       "    }\n",
       "\n",
       "    .dataframe tbody tr th {\n",
       "        vertical-align: top;\n",
       "    }\n",
       "\n",
       "    .dataframe thead th {\n",
       "        text-align: right;\n",
       "    }\n",
       "</style>\n",
       "<table border=\"1\" class=\"dataframe\">\n",
       "  <thead>\n",
       "    <tr style=\"text-align: right;\">\n",
       "      <th></th>\n",
       "      <th>params</th>\n",
       "      <th>std err</th>\n",
       "      <th>t</th>\n",
       "      <th>p-values</th>\n",
       "      <th>Absolute params</th>\n",
       "    </tr>\n",
       "  </thead>\n",
       "  <tbody>\n",
       "    <tr>\n",
       "      <th>Monthly Premium Auto</th>\n",
       "      <td>0.414915</td>\n",
       "      <td>0.014580</td>\n",
       "      <td>28.457</td>\n",
       "      <td>0.000</td>\n",
       "      <td>0.414915</td>\n",
       "    </tr>\n",
       "    <tr>\n",
       "      <th>Response</th>\n",
       "      <td>-0.062343</td>\n",
       "      <td>0.027589</td>\n",
       "      <td>-2.260</td>\n",
       "      <td>0.024</td>\n",
       "      <td>0.062343</td>\n",
       "    </tr>\n",
       "    <tr>\n",
       "      <th>Renew Offer Type</th>\n",
       "      <td>-0.049693</td>\n",
       "      <td>0.009821</td>\n",
       "      <td>-5.060</td>\n",
       "      <td>0.000</td>\n",
       "      <td>0.049693</td>\n",
       "    </tr>\n",
       "    <tr>\n",
       "      <th>Number of Open Complaints</th>\n",
       "      <td>-0.032832</td>\n",
       "      <td>0.009590</td>\n",
       "      <td>-3.424</td>\n",
       "      <td>0.001</td>\n",
       "      <td>0.032832</td>\n",
       "    </tr>\n",
       "    <tr>\n",
       "      <th>Marital Status</th>\n",
       "      <td>-0.031866</td>\n",
       "      <td>0.015457</td>\n",
       "      <td>-2.062</td>\n",
       "      <td>0.039</td>\n",
       "      <td>0.031866</td>\n",
       "    </tr>\n",
       "    <tr>\n",
       "      <th>Number of Policies</th>\n",
       "      <td>0.022095</td>\n",
       "      <td>0.009625</td>\n",
       "      <td>2.296</td>\n",
       "      <td>0.022</td>\n",
       "      <td>0.022095</td>\n",
       "    </tr>\n",
       "    <tr>\n",
       "      <th>Education</th>\n",
       "      <td>0.014373</td>\n",
       "      <td>0.006820</td>\n",
       "      <td>2.108</td>\n",
       "      <td>0.035</td>\n",
       "      <td>0.014373</td>\n",
       "    </tr>\n",
       "  </tbody>\n",
       "</table>\n",
       "</div>"
      ],
      "text/plain": [
       "                             params   std err       t  p-values  \\\n",
       "Monthly Premium Auto       0.414915  0.014580  28.457     0.000   \n",
       "Response                  -0.062343  0.027589  -2.260     0.024   \n",
       "Renew Offer Type          -0.049693  0.009821  -5.060     0.000   \n",
       "Number of Open Complaints -0.032832  0.009590  -3.424     0.001   \n",
       "Marital Status            -0.031866  0.015457  -2.062     0.039   \n",
       "Number of Policies         0.022095  0.009625   2.296     0.022   \n",
       "Education                  0.014373  0.006820   2.108     0.035   \n",
       "\n",
       "                           Absolute params  \n",
       "Monthly Premium Auto              0.414915  \n",
       "Response                          0.062343  \n",
       "Renew Offer Type                  0.049693  \n",
       "Number of Open Complaints         0.032832  \n",
       "Marital Status                    0.031866  \n",
       "Number of Policies                0.022095  \n",
       "Education                         0.014373  "
      ]
     },
     "execution_count": 26,
     "metadata": {},
     "output_type": "execute_result"
    }
   ],
   "source": [
    "model = sm.OLS(all_data_df['Customer Lifetime Value'],all_data_df.drop('Customer Lifetime Value',axis=1)).fit()\n",
    "# model.summary()\n",
    "\n",
    "coef_df = pd.DataFrame({\"params\": model.params,   \n",
    "                        \"std err\": model.bse,     \n",
    "                        \"t\": round(model.tvalues,3),       \n",
    "                        \"p-values\": round(model.pvalues,3) \n",
    "                         })\n",
    "coef_df['Absolute params']=abs(coef_df['params'])\n",
    "coef_df[coef_df['p-values']<0.05].sort_values(by='Absolute params',ascending=False)"
   ]
  },
  {
   "cell_type": "code",
   "execution_count": 27,
   "id": "8e64ac4b",
   "metadata": {},
   "outputs": [
    {
     "data": {
      "text/plain": [
       "Index(['Monthly Premium Auto', 'Number of Open Complaints',\n",
       "       'Number of Policies', 'Response', 'Education', 'Marital Status',\n",
       "       'Renew Offer Type'],\n",
       "      dtype='object')"
      ]
     },
     "execution_count": 27,
     "metadata": {},
     "output_type": "execute_result"
    }
   ],
   "source": [
    "factors = coef_df[coef_df['p-values']<0.05].index\n",
    "factors"
   ]
  },
  {
   "cell_type": "code",
   "execution_count": 28,
   "id": "26b0cd3c",
   "metadata": {},
   "outputs": [],
   "source": [
    "from sklearn.cluster import KMeans\n",
    "from sklearn.metrics import silhouette_score,silhouette_samples"
   ]
  },
  {
   "cell_type": "code",
   "execution_count": 29,
   "id": "1646b5a7",
   "metadata": {},
   "outputs": [
    {
     "data": {
      "text/html": [
       "<div>\n",
       "<style scoped>\n",
       "    .dataframe tbody tr th:only-of-type {\n",
       "        vertical-align: middle;\n",
       "    }\n",
       "\n",
       "    .dataframe tbody tr th {\n",
       "        vertical-align: top;\n",
       "    }\n",
       "\n",
       "    .dataframe thead th {\n",
       "        text-align: right;\n",
       "    }\n",
       "</style>\n",
       "<table border=\"1\" class=\"dataframe\">\n",
       "  <thead>\n",
       "    <tr style=\"text-align: right;\">\n",
       "      <th></th>\n",
       "      <th>Monthly Premium Auto</th>\n",
       "      <th>Number of Open Complaints</th>\n",
       "      <th>Number of Policies</th>\n",
       "      <th>Response</th>\n",
       "      <th>Education</th>\n",
       "      <th>Marital Status</th>\n",
       "      <th>Renew Offer Type</th>\n",
       "    </tr>\n",
       "  </thead>\n",
       "  <tbody>\n",
       "    <tr>\n",
       "      <th>0</th>\n",
       "      <td>-0.703886</td>\n",
       "      <td>-0.422226</td>\n",
       "      <td>-0.822603</td>\n",
       "      <td>0</td>\n",
       "      <td>0</td>\n",
       "      <td>1</td>\n",
       "      <td>0</td>\n",
       "    </tr>\n",
       "    <tr>\n",
       "      <th>1</th>\n",
       "      <td>0.022690</td>\n",
       "      <td>-0.422226</td>\n",
       "      <td>2.106045</td>\n",
       "      <td>0</td>\n",
       "      <td>0</td>\n",
       "      <td>2</td>\n",
       "      <td>2</td>\n",
       "    </tr>\n",
       "    <tr>\n",
       "      <th>2</th>\n",
       "      <td>0.429572</td>\n",
       "      <td>-0.422226</td>\n",
       "      <td>-0.404225</td>\n",
       "      <td>0</td>\n",
       "      <td>0</td>\n",
       "      <td>1</td>\n",
       "      <td>0</td>\n",
       "    </tr>\n",
       "    <tr>\n",
       "      <th>3</th>\n",
       "      <td>0.371446</td>\n",
       "      <td>-0.422226</td>\n",
       "      <td>1.687666</td>\n",
       "      <td>0</td>\n",
       "      <td>0</td>\n",
       "      <td>1</td>\n",
       "      <td>0</td>\n",
       "    </tr>\n",
       "    <tr>\n",
       "      <th>4</th>\n",
       "      <td>-0.587634</td>\n",
       "      <td>-0.422226</td>\n",
       "      <td>-0.822603</td>\n",
       "      <td>0</td>\n",
       "      <td>0</td>\n",
       "      <td>2</td>\n",
       "      <td>0</td>\n",
       "    </tr>\n",
       "    <tr>\n",
       "      <th>...</th>\n",
       "      <td>...</td>\n",
       "      <td>...</td>\n",
       "      <td>...</td>\n",
       "      <td>...</td>\n",
       "      <td>...</td>\n",
       "      <td>...</td>\n",
       "      <td>...</td>\n",
       "    </tr>\n",
       "    <tr>\n",
       "      <th>9129</th>\n",
       "      <td>-0.587634</td>\n",
       "      <td>-0.422226</td>\n",
       "      <td>-0.404225</td>\n",
       "      <td>0</td>\n",
       "      <td>0</td>\n",
       "      <td>1</td>\n",
       "      <td>1</td>\n",
       "    </tr>\n",
       "    <tr>\n",
       "      <th>9130</th>\n",
       "      <td>-0.413256</td>\n",
       "      <td>-0.422226</td>\n",
       "      <td>-0.822603</td>\n",
       "      <td>1</td>\n",
       "      <td>1</td>\n",
       "      <td>0</td>\n",
       "      <td>0</td>\n",
       "    </tr>\n",
       "    <tr>\n",
       "      <th>9131</th>\n",
       "      <td>-0.238878</td>\n",
       "      <td>2.873088</td>\n",
       "      <td>-0.404225</td>\n",
       "      <td>0</td>\n",
       "      <td>0</td>\n",
       "      <td>2</td>\n",
       "      <td>0</td>\n",
       "    </tr>\n",
       "    <tr>\n",
       "      <th>9132</th>\n",
       "      <td>0.080816</td>\n",
       "      <td>-0.422226</td>\n",
       "      <td>0.014154</td>\n",
       "      <td>0</td>\n",
       "      <td>1</td>\n",
       "      <td>1</td>\n",
       "      <td>2</td>\n",
       "    </tr>\n",
       "    <tr>\n",
       "      <th>9133</th>\n",
       "      <td>-0.471382</td>\n",
       "      <td>-0.422226</td>\n",
       "      <td>-0.822603</td>\n",
       "      <td>0</td>\n",
       "      <td>1</td>\n",
       "      <td>2</td>\n",
       "      <td>3</td>\n",
       "    </tr>\n",
       "  </tbody>\n",
       "</table>\n",
       "<p>9134 rows × 7 columns</p>\n",
       "</div>"
      ],
      "text/plain": [
       "      Monthly Premium Auto  Number of Open Complaints  Number of Policies  \\\n",
       "0                -0.703886                  -0.422226           -0.822603   \n",
       "1                 0.022690                  -0.422226            2.106045   \n",
       "2                 0.429572                  -0.422226           -0.404225   \n",
       "3                 0.371446                  -0.422226            1.687666   \n",
       "4                -0.587634                  -0.422226           -0.822603   \n",
       "...                    ...                        ...                 ...   \n",
       "9129             -0.587634                  -0.422226           -0.404225   \n",
       "9130             -0.413256                  -0.422226           -0.822603   \n",
       "9131             -0.238878                   2.873088           -0.404225   \n",
       "9132              0.080816                  -0.422226            0.014154   \n",
       "9133             -0.471382                  -0.422226           -0.822603   \n",
       "\n",
       "      Response  Education  Marital Status  Renew Offer Type  \n",
       "0            0          0               1                 0  \n",
       "1            0          0               2                 2  \n",
       "2            0          0               1                 0  \n",
       "3            0          0               1                 0  \n",
       "4            0          0               2                 0  \n",
       "...        ...        ...             ...               ...  \n",
       "9129         0          0               1                 1  \n",
       "9130         1          1               0                 0  \n",
       "9131         0          0               2                 0  \n",
       "9132         0          1               1                 2  \n",
       "9133         0          1               2                 3  \n",
       "\n",
       "[9134 rows x 7 columns]"
      ]
     },
     "execution_count": 29,
     "metadata": {},
     "output_type": "execute_result"
    }
   ],
   "source": [
    "y,X = all_data_df['Customer Lifetime Value'],all_data_df[factors]\n",
    "X"
   ]
  },
  {
   "cell_type": "code",
   "execution_count": 30,
   "id": "44ce9e45",
   "metadata": {},
   "outputs": [
    {
     "data": {
      "image/png": "[encoded data removed]",
      "text/plain": [
       "<Figure size 432x288 with 1 Axes>"
      ]
     },
     "metadata": {
      "needs_background": "light"
     },
     "output_type": "display_data"
    }
   ],
   "source": [
    "silhouette_scores = []\n",
    "for k in range(2,10):\n",
    "    estimator = KMeans(n_clusters=k)\n",
    "    estimator.fit(all_data_df)\n",
    "    label_pred = estimator.labels_ # Get the cluster labels\n",
    "    silhouette_score_cluster = silhouette_score(all_data_df,label_pred)\n",
    "    silhouette_scores.append(silhouette_score_cluster)\n",
    "\n",
    "plt.title('Silhouette Scores')\n",
    "plt.plot([i for i in range(2,10)],silhouette_scores)\n",
    "plt.show()"
   ]
  },
  {
   "cell_type": "markdown",
   "id": "6851df59",
   "metadata": {},
   "source": [
    "<p>pick the number of cluster with the highest score, but maybe 5 is more reasonable</p>"
   ]
  },
  {
   "cell_type": "code",
   "execution_count": 31,
   "id": "dbfe569f",
   "metadata": {},
   "outputs": [],
   "source": [
    "k=2\n",
    "estimator = KMeans(n_clusters=k)\n",
    "estimator.fit(all_data_df)\n",
    "label_pred = estimator.labels_ #Obtain the cluster labels\n",
    "centroids = estimator.cluster_centers_ # Obtain the centroids\n",
    "inertia = estimator.inertia_ \n",
    "all_data_df['KMeans Label'] = label_pred"
   ]
  },
  {
   "cell_type": "code",
   "execution_count": 32,
   "id": "58d13260",
   "metadata": {},
   "outputs": [
    {
     "name": "stdout",
     "output_type": "stream",
     "text": [
      "tsne.embedding_: \n",
      " [[-12.773948 -71.25441 ]\n",
      " [-36.79707   18.10746 ]\n",
      " [ 20.525099 -65.928955]\n",
      " ...\n",
      " [-35.357388  34.87803 ]\n",
      " [-25.80886   77.77019 ]\n",
      " [ 74.70819  -22.153822]]\n",
      "tsne: \n",
      " TSNE()\n"
     ]
    }
   ],
   "source": [
    "from sklearn.manifold import TSNE\n",
    "tsne = TSNE()\n",
    "tsne.fit_transform(all_data_df)  # Dimension reduction\n",
    "# tsne.embedding_ can return the data after dimension reduction\n",
    "print('tsne.embedding_: \\n', tsne.embedding_)\n",
    "tsn = pd.DataFrame(tsne.embedding_, index=X.index)  # Transform the data format\n",
    "print('tsne: \\n', tsne)\n",
    "\n",
    "plt.rcParams['axes.unicode_minus'] = False  # To show negative signs"
   ]
  },
  {
   "cell_type": "code",
   "execution_count": 34,
   "id": "0750c4e1",
   "metadata": {},
   "outputs": [
    {
     "data": {
      "image/png": "[encoded data removed]",
      "text/plain": [
       "<Figure size 720x432 with 1 Axes>"
      ]
     },
     "metadata": {
      "needs_background": "light"
     },
     "output_type": "display_data"
    }
   ],
   "source": [
    "color_style = ['red', 'blue', 'green', 'yellow','grey']\n",
    "plt.figure(figsize=(10,6))\n",
    "for i in range(k):\n",
    "    d = tsn[all_data_df[u'KMeans Label'] == i]\n",
    "    plt.scatter(d[0], d[1],edgecolors=color_style[i],color=[], label='Cluster' + str(i+1))\n",
    "plt.legend()\n",
    "plt.show()"
   ]
  },
  {
   "cell_type": "code",
   "execution_count": 35,
   "id": "d4bf4353",
   "metadata": {},
   "outputs": [],
   "source": [
    "cont = df.select_dtypes(include=['int64','float'])\n",
    "cont.reset_index(drop = True, inplace=True)\n",
    "cat1 = df.select_dtypes(include='object')\n",
    "cat2 = cat1.drop(['Customer','Effective To Date'], axis = 1)\n",
    "all = pd.concat([cont,cat2], axis = 1)\n",
    "all['Label'] = label_pred\n",
    "all.to_csv('Labeled_3.csv')"
   ]
  },
  {
   "cell_type": "code",
   "execution_count": 38,
   "id": "fdc5d8de",
   "metadata": {},
   "outputs": [
    {
     "data": {
      "text/html": [
       "<div>\n",
       "<style scoped>\n",
       "    .dataframe tbody tr th:only-of-type {\n",
       "        vertical-align: middle;\n",
       "    }\n",
       "\n",
       "    .dataframe tbody tr th {\n",
       "        vertical-align: top;\n",
       "    }\n",
       "\n",
       "    .dataframe thead th {\n",
       "        text-align: right;\n",
       "    }\n",
       "</style>\n",
       "<table border=\"1\" class=\"dataframe\">\n",
       "  <thead>\n",
       "    <tr style=\"text-align: right;\">\n",
       "      <th></th>\n",
       "      <th>Accident Severity in State</th>\n",
       "      <th>Number of Accidents in State</th>\n",
       "      <th>Customer Lifetime Value</th>\n",
       "      <th>Income</th>\n",
       "      <th>Monthly Premium Auto</th>\n",
       "      <th>Months Since Last Claim</th>\n",
       "      <th>Months Since Policy Inception</th>\n",
       "      <th>Number of Open Complaints</th>\n",
       "      <th>Number of Policies</th>\n",
       "      <th>Total Claim Amount</th>\n",
       "      <th>Response</th>\n",
       "    </tr>\n",
       "    <tr>\n",
       "      <th>Label</th>\n",
       "      <th></th>\n",
       "      <th></th>\n",
       "      <th></th>\n",
       "      <th></th>\n",
       "      <th></th>\n",
       "      <th></th>\n",
       "      <th></th>\n",
       "      <th></th>\n",
       "      <th></th>\n",
       "      <th></th>\n",
       "      <th></th>\n",
       "    </tr>\n",
       "  </thead>\n",
       "  <tbody>\n",
       "    <tr>\n",
       "      <th>0</th>\n",
       "      <td>2.097014</td>\n",
       "      <td>324631.054984</td>\n",
       "      <td>9403.811447</td>\n",
       "      <td>37363.069736</td>\n",
       "      <td>108.697810</td>\n",
       "      <td>15.052749</td>\n",
       "      <td>48.172553</td>\n",
       "      <td>0.366786</td>\n",
       "      <td>2.948815</td>\n",
       "      <td>517.471433</td>\n",
       "      <td>0.152883</td>\n",
       "    </tr>\n",
       "    <tr>\n",
       "      <th>1</th>\n",
       "      <td>2.096835</td>\n",
       "      <td>324220.592060</td>\n",
       "      <td>6661.904267</td>\n",
       "      <td>37939.943133</td>\n",
       "      <td>78.358584</td>\n",
       "      <td>15.139485</td>\n",
       "      <td>47.960944</td>\n",
       "      <td>0.401288</td>\n",
       "      <td>2.982833</td>\n",
       "      <td>354.034304</td>\n",
       "      <td>0.133906</td>\n",
       "    </tr>\n",
       "  </tbody>\n",
       "</table>\n",
       "</div>"
      ],
      "text/plain": [
       "       Accident Severity in State  Number of Accidents in State  \\\n",
       "Label                                                             \n",
       "0                        2.097014                 324631.054984   \n",
       "1                        2.096835                 324220.592060   \n",
       "\n",
       "       Customer Lifetime Value        Income  Monthly Premium Auto  \\\n",
       "Label                                                                \n",
       "0                  9403.811447  37363.069736            108.697810   \n",
       "1                  6661.904267  37939.943133             78.358584   \n",
       "\n",
       "       Months Since Last Claim  Months Since Policy Inception  \\\n",
       "Label                                                           \n",
       "0                    15.052749                      48.172553   \n",
       "1                    15.139485                      47.960944   \n",
       "\n",
       "       Number of Open Complaints  Number of Policies  Total Claim Amount  \\\n",
       "Label                                                                      \n",
       "0                       0.366786            2.948815          517.471433   \n",
       "1                       0.401288            2.982833          354.034304   \n",
       "\n",
       "       Response  \n",
       "Label            \n",
       "0      0.152883  \n",
       "1      0.133906  "
      ]
     },
     "execution_count": 38,
     "metadata": {},
     "output_type": "execute_result"
    }
   ],
   "source": [
    "all.groupby('Label').mean()"
   ]
  },
  {
   "cell_type": "code",
   "execution_count": 39,
   "id": "3e21a86f",
   "metadata": {},
   "outputs": [],
   "source": [
    "#\n",
    "#\n",
    "#\n",
    "def plotdiff(feature):\n",
    "    sns.barplot(x='Label',y=feature,data=all,orient='v', palette = \"Purples\")\n",
    "    plt.title('Avearage '+feature, fontsize=15)\n",
    "    plt.xticks(ticks=[0,1],labels=['cluster1','cluster2'], fontsize=15)\n",
    "#\n",
    "#\n",
    "#"
   ]
  },
  {
   "cell_type": "code",
   "execution_count": 40,
   "id": "52bf8ec7",
   "metadata": {},
   "outputs": [
    {
     "data": {
      "image/png": "[encoded data removed]",
      "text/plain": [
       "<Figure size 432x288 with 1 Axes>"
      ]
     },
     "metadata": {
      "needs_background": "light"
     },
     "output_type": "display_data"
    }
   ],
   "source": [
    "all['Response'] = all['Response'].apply(lambda x: 0 if x=='No' else 1)\n",
    "plotdiff('Response')"
   ]
  },
  {
   "cell_type": "code",
   "execution_count": 41,
   "id": "e690f7b8",
   "metadata": {},
   "outputs": [
    {
     "data": {
      "text/plain": [
       "Index(['Monthly Premium Auto', 'Number of Open Complaints',\n",
       "       'Number of Policies', 'Response', 'Education', 'Marital Status',\n",
       "       'Renew Offer Type'],\n",
       "      dtype='object')"
      ]
     },
     "execution_count": 41,
     "metadata": {},
     "output_type": "execute_result"
    }
   ],
   "source": [
    "factors = coef_df[coef_df['p-values']<0.05].index\n",
    "factors"
   ]
  },
  {
   "cell_type": "code",
   "execution_count": 42,
   "id": "91d64ae5",
   "metadata": {},
   "outputs": [
    {
     "data": {
      "text/plain": [
       "93.21929056273265"
      ]
     },
     "execution_count": 42,
     "metadata": {},
     "output_type": "execute_result"
    }
   ],
   "source": [
    "all['Monthly Premium Auto'].mean()"
   ]
  },
  {
   "cell_type": "code",
   "execution_count": 43,
   "id": "88f88f2d",
   "metadata": {
    "scrolled": true
   },
   "outputs": [
    {
     "data": {
      "image/png": "[encoded data removed]",
      "text/plain": [
       "<Figure size 432x288 with 1 Axes>"
      ]
     },
     "metadata": {
      "needs_background": "light"
     },
     "output_type": "display_data"
    }
   ],
   "source": [
    "#all['Monthly Premium Auto'] = all['Monthly Premium Auto'].apply(lambda x: 0 if x=='No' else 1)\n",
    "plotdiff('Monthly Premium Auto')"
   ]
  },
  {
   "cell_type": "code",
   "execution_count": 44,
   "id": "ab8fbfb7",
   "metadata": {},
   "outputs": [
    {
     "data": {
      "image/png": "[encoded data removed]",
      "text/plain": [
       "<Figure size 432x288 with 1 Axes>"
      ]
     },
     "metadata": {
      "needs_background": "light"
     },
     "output_type": "display_data"
    }
   ],
   "source": [
    "plotdiff('Number of Open Complaints')"
   ]
  },
  {
   "cell_type": "code",
   "execution_count": 45,
   "id": "c8ff5fac",
   "metadata": {},
   "outputs": [
    {
     "data": {
      "text/plain": [
       "array(['Bachelor', 'College', 'Master', 'High School or Below', 'Doctor'],\n",
       "      dtype=object)"
      ]
     },
     "execution_count": 45,
     "metadata": {},
     "output_type": "execute_result"
    }
   ],
   "source": [
    "all['Education'].unique()"
   ]
  },
  {
   "cell_type": "code",
   "execution_count": 46,
   "id": "65165f0a",
   "metadata": {},
   "outputs": [],
   "source": [
    "edu_dict={'High School or Below':0 ,'Bachelor':1,'College':2, 'Master':3,  'Doctor':4}\n",
    "all['Education level']=7\n",
    "for i in all.index:\n",
    "    all.loc[i,'Education level']=edu_dict[all.loc[i,'Education']]\n",
    "#all[['Education level']] "
   ]
  },
  {
   "cell_type": "code",
   "execution_count": 47,
   "id": "02f2372e",
   "metadata": {},
   "outputs": [
    {
     "data": {
      "text/plain": [
       "Text(0.5, 1.0, 'Avearage Education Level')"
      ]
     },
     "execution_count": 47,
     "metadata": {},
     "output_type": "execute_result"
    },
    {
     "data": {
      "image/png": "[encoded data removed]",
      "text/plain": [
       "<Figure size 432x288 with 1 Axes>"
      ]
     },
     "metadata": {
      "needs_background": "light"
     },
     "output_type": "display_data"
    }
   ],
   "source": [
    "sns.barplot(x='Label',y='Education level',data=all,orient='v', palette = \"Purples\")\n",
    "plt.title('Avearage Education Level')"
   ]
  },
  {
   "cell_type": "code",
   "execution_count": 48,
   "id": "91db9349",
   "metadata": {},
   "outputs": [
    {
     "name": "stdout",
     "output_type": "stream",
     "text": [
      "[1307, 1390, 1412, 366, 185]\n"
     ]
    },
    {
     "data": {
      "image/png": "[encoded data removed]",
      "text/plain": [
       "<Figure size 432x288 with 1 Axes>"
      ]
     },
     "metadata": {
      "needs_background": "light"
     },
     "output_type": "display_data"
    }
   ],
   "source": [
    "import matplotlib.pyplot as plt\n",
    "\n",
    "#plt.rcParams['font.sans-serif'] = [u'SimHei'] \n",
    "#plt.rcParams['axes.unicode_minus'] = False\n",
    "\n",
    "educationlist=['High School or Below','Bachelor','College', 'Master','Doctor']\n",
    "label0_data=all[all['Label']==0]\n",
    "label1_data=all[all['Label']==1]\n",
    "label0_list=[]\n",
    "label1_list=[]\n",
    "for i in educationlist:\n",
    "    d0=len(label0_data[label0_data['Education']==i])\n",
    "    d1=len(label1_data[label1_data['Education']==i])\n",
    "    label0_list.append(d0)\n",
    "    label1_list.append(d1)\n",
    "\n",
    "print(label1_list)\n",
    "\n",
    "    \n",
    "width=0.4\n",
    "plt.bar([j for j in range(len(label0_list))], label0_list, width=width, label='cluster1', color='violet')\n",
    "plt.bar([j+width for j in range(len(label1_list))], label1_list, width=width, label='cluster2', color='blueviolet')\n",
    "plt.title('Education Level in Different Clusters',fontsize=16)\n",
    "plt.xticks(ticks=[0,1,2,3,4],labels=['HighSchool','Bachelor','College', 'Master','Doctor'], fontsize=12)\n",
    "plt.legend()\n",
    "plt.show()"
   ]
  },
  {
   "cell_type": "code",
   "execution_count": 49,
   "id": "43223997",
   "metadata": {},
   "outputs": [
    {
     "data": {
      "text/plain": [
       "array(['Married', 'Single', 'Divorced'], dtype=object)"
      ]
     },
     "execution_count": 49,
     "metadata": {},
     "output_type": "execute_result"
    }
   ],
   "source": [
    "all['Marital Status'].unique()"
   ]
  },
  {
   "cell_type": "code",
   "execution_count": 50,
   "id": "dd8378ee",
   "metadata": {},
   "outputs": [
    {
     "data": {
      "text/plain": [
       "Text(0.5, 1.0, 'Avearage Married')"
      ]
     },
     "execution_count": 50,
     "metadata": {},
     "output_type": "execute_result"
    },
    {
     "data": {
      "image/png": "[encoded data removed]",
      "text/plain": [
       "<Figure size 432x288 with 1 Axes>"
      ]
     },
     "metadata": {
      "needs_background": "light"
     },
     "output_type": "display_data"
    }
   ],
   "source": [
    "all['Married']=0\n",
    "all['Single']=0\n",
    "all['Divorced']=0\n",
    "for i in all.index:\n",
    "    if all.loc[i,'Marital Status']=='Married':\n",
    "        all.loc[i,'Married']=1\n",
    "    elif all.loc[i,'Marital Status']=='Single':\n",
    "        all.loc[i,'Single']=1\n",
    "    elif all.loc[i,'Marital Status']=='Divorced':\n",
    "        all.loc[i,'Divorced']=1\n",
    "sns.barplot(x='Label',y='Married',data=all,orient='v', palette = \"Purples\")\n",
    "plt.title('Avearage Married')"
   ]
  },
  {
   "cell_type": "code",
   "execution_count": 51,
   "id": "d00819b1",
   "metadata": {},
   "outputs": [
    {
     "name": "stdout",
     "output_type": "stream",
     "text": [
      "[2656, 1250, 754]\n"
     ]
    },
    {
     "data": {
      "image/png": "[encoded data removed]",
      "text/plain": [
       "<Figure size 432x288 with 1 Axes>"
      ]
     },
     "metadata": {
      "needs_background": "light"
     },
     "output_type": "display_data"
    }
   ],
   "source": [
    "import matplotlib.pyplot as plt\n",
    "\n",
    "#plt.rcParams['font.sans-serif'] = [u'SimHei'] \n",
    "#plt.rcParams['axes.unicode_minus'] = False\n",
    "    \n",
    "educationlist=['Married', 'Single', 'Divorced']\n",
    "label0_data=all[all['Label']==0]\n",
    "label1_data=all[all['Label']==1]\n",
    "label0_list=[]\n",
    "label1_list=[]\n",
    "for i in educationlist:\n",
    "    d0=len(label0_data[label0_data['Marital Status']==i])\n",
    "    d1=len(label1_data[label1_data['Marital Status']==i])\n",
    "    label0_list.append(d0)\n",
    "    label1_list.append(d1)\n",
    "\n",
    "print(label1_list)\n",
    "\n",
    "    \n",
    "width=0.4\n",
    "plt.bar([j for j in range(len(label0_list))], label0_list, width=width, label='cluster1', color='violet')\n",
    "plt.bar([j+width for j in range(len(label1_list))], label1_list, width=width, label='cluster2', color='blueviolet')\n",
    "plt.title('Marital Status in Different Clusters',fontsize=16)\n",
    "plt.xticks(ticks=[0,1,2],labels=['Married', 'Single', 'Divorced'], fontsize=12)\n",
    "plt.legend()\n",
    "plt.show()"
   ]
  },
  {
   "cell_type": "code",
   "execution_count": 52,
   "id": "a78cd796",
   "metadata": {},
   "outputs": [
    {
     "data": {
      "text/plain": [
       "Text(0.5, 1.0, 'Avearage Single')"
      ]
     },
     "execution_count": 52,
     "metadata": {},
     "output_type": "execute_result"
    },
    {
     "data": {
      "image/png": "[encoded data removed]",
      "text/plain": [
       "<Figure size 432x288 with 1 Axes>"
      ]
     },
     "metadata": {
      "needs_background": "light"
     },
     "output_type": "display_data"
    }
   ],
   "source": [
    "sns.barplot(x='Label',y='Single',data=all,orient='v', palette = \"Purples\")\n",
    "plt.title('Avearage Single')"
   ]
  },
  {
   "cell_type": "code",
   "execution_count": 53,
   "id": "bc719595",
   "metadata": {},
   "outputs": [
    {
     "data": {
      "text/plain": [
       "Text(0.5, 1.0, 'Avearage Divorced')"
      ]
     },
     "execution_count": 53,
     "metadata": {},
     "output_type": "execute_result"
    },
    {
     "data": {
      "image/png": "[encoded data removed]",
      "text/plain": [
       "<Figure size 432x288 with 1 Axes>"
      ]
     },
     "metadata": {
      "needs_background": "light"
     },
     "output_type": "display_data"
    }
   ],
   "source": [
    "sns.barplot(x='Label',y='Divorced',data=all,orient='v', palette = \"Purples\")\n",
    "plt.title('Avearage Divorced')"
   ]
  },
  {
   "cell_type": "code",
   "execution_count": 54,
   "id": "cf5bc357",
   "metadata": {},
   "outputs": [
    {
     "data": {
      "text/plain": [
       "array(['Offer1', 'Offer3', 'Offer2', 'Offer4'], dtype=object)"
      ]
     },
     "execution_count": 54,
     "metadata": {},
     "output_type": "execute_result"
    }
   ],
   "source": [
    "all['Renew Offer Type'].unique()"
   ]
  },
  {
   "cell_type": "code",
   "execution_count": 55,
   "id": "04247934",
   "metadata": {},
   "outputs": [
    {
     "data": {
      "text/plain": [
       "Text(0.5, 1.0, 'Avearage Offer1')"
      ]
     },
     "execution_count": 55,
     "metadata": {},
     "output_type": "execute_result"
    },
    {
     "data": {
      "image/png": "[encoded data removed]",
      "text/plain": [
       "<Figure size 432x288 with 1 Axes>"
      ]
     },
     "metadata": {
      "needs_background": "light"
     },
     "output_type": "display_data"
    }
   ],
   "source": [
    "all['Offer1']=0\n",
    "all['Offer2']=0\n",
    "all['Offer3']=0\n",
    "all['Offer4']=0\n",
    "for i in all.index:\n",
    "    if all.loc[i,'Renew Offer Type']=='Offer1':\n",
    "        all.loc[i,'Offer1']=1\n",
    "    elif all.loc[i,'Renew Offer Type']=='Offer2':\n",
    "        all.loc[i,'Offer2']=1\n",
    "    elif all.loc[i,'Renew Offer Type']=='Offer3':\n",
    "        all.loc[i,'Offer3']=1\n",
    "    elif all.loc[i,'Renew Offer Type']=='Offer4':\n",
    "        all.loc[i,'Offer4']=1\n",
    "        \n",
    "sns.barplot(x='Label',y='Offer1',data=all,orient='v', palette = \"Purples\")\n",
    "plt.title('Avearage Offer1')"
   ]
  },
  {
   "cell_type": "code",
   "execution_count": 56,
   "id": "5f20c7f5",
   "metadata": {},
   "outputs": [
    {
     "data": {
      "text/plain": [
       "Text(0.5, 1.0, 'Avearage Offer2')"
      ]
     },
     "execution_count": 56,
     "metadata": {},
     "output_type": "execute_result"
    },
    {
     "data": {
      "image/png": "[encoded data removed]",
      "text/plain": [
       "<Figure size 432x288 with 1 Axes>"
      ]
     },
     "metadata": {
      "needs_background": "light"
     },
     "output_type": "display_data"
    }
   ],
   "source": [
    "sns.barplot(x='Label',y='Offer2',data=all,orient='v', palette = \"Purples\")\n",
    "plt.title('Avearage Offer2')"
   ]
  },
  {
   "cell_type": "code",
   "execution_count": 57,
   "id": "c5c4ffc8",
   "metadata": {},
   "outputs": [
    {
     "data": {
      "text/plain": [
       "Text(0.5, 1.0, 'Avearage Offer3')"
      ]
     },
     "execution_count": 57,
     "metadata": {},
     "output_type": "execute_result"
    },
    {
     "data": {
      "image/png": "[encoded data removed]",
      "text/plain": [
       "<Figure size 432x288 with 1 Axes>"
      ]
     },
     "metadata": {
      "needs_background": "light"
     },
     "output_type": "display_data"
    }
   ],
   "source": [
    "sns.barplot(x='Label',y='Offer3',data=all,orient='v', palette = \"Purples\")\n",
    "plt.title('Avearage Offer3')"
   ]
  },
  {
   "cell_type": "code",
   "execution_count": 58,
   "id": "e9a751cb",
   "metadata": {},
   "outputs": [
    {
     "data": {
      "text/plain": [
       "Text(0.5, 1.0, 'Avearage Offer4')"
      ]
     },
     "execution_count": 58,
     "metadata": {},
     "output_type": "execute_result"
    },
    {
     "data": {
      "image/png": "[encoded data removed]",
      "text/plain": [
       "<Figure size 432x288 with 1 Axes>"
      ]
     },
     "metadata": {
      "needs_background": "light"
     },
     "output_type": "display_data"
    }
   ],
   "source": [
    "sns.barplot(x='Label',y='Offer4',data=all,orient='v', palette = \"Purples\")\n",
    "plt.title('Avearage Offer4')"
   ]
  },
  {
   "cell_type": "code",
   "execution_count": 59,
   "id": "a20e9e68",
   "metadata": {},
   "outputs": [
    {
     "data": {
      "image/png": "[encoded data removed]",
      "text/plain": [
       "<Figure size 432x288 with 1 Axes>"
      ]
     },
     "metadata": {
      "needs_background": "light"
     },
     "output_type": "display_data"
    }
   ],
   "source": [
    "plotdiff('Customer Lifetime Value')"
   ]
  },
  {
   "cell_type": "code",
   "execution_count": 60,
   "id": "56e29aa7",
   "metadata": {},
   "outputs": [
    {
     "data": {
      "text/plain": [
       "Text(0.5, 1.0, 'Avearage Number of Accidents in State')"
      ]
     },
     "execution_count": 60,
     "metadata": {},
     "output_type": "execute_result"
    },
    {
     "data": {
      "image/png": "[encoded data removed]",
      "text/plain": [
       "<Figure size 432x288 with 1 Axes>"
      ]
     },
     "metadata": {
      "needs_background": "light"
     },
     "output_type": "display_data"
    }
   ],
   "source": [
    "sns.barplot(x='Label',y='Number of Accidents in State',data=all,orient='v')\n",
    "plt.title('Avearage Number of Accidents in State')"
   ]
  },
  {
   "cell_type": "code",
   "execution_count": 61,
   "id": "bb692b62",
   "metadata": {},
   "outputs": [
    {
     "name": "stdout",
     "output_type": "stream",
     "text": [
      "['Employed', 'Unemployed', 'Medical Leave', 'Disabled', 'Retired']\n"
     ]
    },
    {
     "data": {
      "text/html": [
       "<div>\n",
       "<style scoped>\n",
       "    .dataframe tbody tr th:only-of-type {\n",
       "        vertical-align: middle;\n",
       "    }\n",
       "\n",
       "    .dataframe tbody tr th {\n",
       "        vertical-align: top;\n",
       "    }\n",
       "\n",
       "    .dataframe thead th {\n",
       "        text-align: right;\n",
       "    }\n",
       "</style>\n",
       "<table border=\"1\" class=\"dataframe\">\n",
       "  <thead>\n",
       "    <tr style=\"text-align: right;\">\n",
       "      <th></th>\n",
       "      <th>Accident Severity in State</th>\n",
       "      <th>Number of Accidents in State</th>\n",
       "      <th>Customer Lifetime Value</th>\n",
       "      <th>Income</th>\n",
       "      <th>Monthly Premium Auto</th>\n",
       "      <th>Months Since Last Claim</th>\n",
       "      <th>Months Since Policy Inception</th>\n",
       "      <th>Number of Open Complaints</th>\n",
       "      <th>Number of Policies</th>\n",
       "      <th>Total Claim Amount</th>\n",
       "      <th>...</th>\n",
       "      <th>Divorced</th>\n",
       "      <th>Offer1</th>\n",
       "      <th>Offer2</th>\n",
       "      <th>Offer3</th>\n",
       "      <th>Offer4</th>\n",
       "      <th>Employed</th>\n",
       "      <th>Unemployed</th>\n",
       "      <th>Medical Leave</th>\n",
       "      <th>Disabled</th>\n",
       "      <th>Retired</th>\n",
       "    </tr>\n",
       "  </thead>\n",
       "  <tbody>\n",
       "    <tr>\n",
       "      <th>0</th>\n",
       "      <td>2.305062</td>\n",
       "      <td>32554</td>\n",
       "      <td>2763.519279</td>\n",
       "      <td>56274</td>\n",
       "      <td>69</td>\n",
       "      <td>32</td>\n",
       "      <td>5</td>\n",
       "      <td>0</td>\n",
       "      <td>1</td>\n",
       "      <td>384.811147</td>\n",
       "      <td>...</td>\n",
       "      <td>0</td>\n",
       "      <td>1</td>\n",
       "      <td>0</td>\n",
       "      <td>0</td>\n",
       "      <td>0</td>\n",
       "      <td>1</td>\n",
       "      <td>0</td>\n",
       "      <td>0</td>\n",
       "      <td>0</td>\n",
       "      <td>0</td>\n",
       "    </tr>\n",
       "    <tr>\n",
       "      <th>1</th>\n",
       "      <td>2.069553</td>\n",
       "      <td>56504</td>\n",
       "      <td>6979.535903</td>\n",
       "      <td>0</td>\n",
       "      <td>94</td>\n",
       "      <td>13</td>\n",
       "      <td>42</td>\n",
       "      <td>0</td>\n",
       "      <td>8</td>\n",
       "      <td>1131.464935</td>\n",
       "      <td>...</td>\n",
       "      <td>0</td>\n",
       "      <td>0</td>\n",
       "      <td>0</td>\n",
       "      <td>1</td>\n",
       "      <td>0</td>\n",
       "      <td>0</td>\n",
       "      <td>1</td>\n",
       "      <td>0</td>\n",
       "      <td>0</td>\n",
       "      <td>0</td>\n",
       "    </tr>\n",
       "    <tr>\n",
       "      <th>2</th>\n",
       "      <td>2.226077</td>\n",
       "      <td>6197</td>\n",
       "      <td>12887.431650</td>\n",
       "      <td>48767</td>\n",
       "      <td>108</td>\n",
       "      <td>18</td>\n",
       "      <td>38</td>\n",
       "      <td>0</td>\n",
       "      <td>2</td>\n",
       "      <td>566.472247</td>\n",
       "      <td>...</td>\n",
       "      <td>0</td>\n",
       "      <td>1</td>\n",
       "      <td>0</td>\n",
       "      <td>0</td>\n",
       "      <td>0</td>\n",
       "      <td>1</td>\n",
       "      <td>0</td>\n",
       "      <td>0</td>\n",
       "      <td>0</td>\n",
       "      <td>0</td>\n",
       "    </tr>\n",
       "    <tr>\n",
       "      <th>3</th>\n",
       "      <td>2.041998</td>\n",
       "      <td>795868</td>\n",
       "      <td>7645.861827</td>\n",
       "      <td>0</td>\n",
       "      <td>106</td>\n",
       "      <td>18</td>\n",
       "      <td>65</td>\n",
       "      <td>0</td>\n",
       "      <td>7</td>\n",
       "      <td>529.881344</td>\n",
       "      <td>...</td>\n",
       "      <td>0</td>\n",
       "      <td>1</td>\n",
       "      <td>0</td>\n",
       "      <td>0</td>\n",
       "      <td>0</td>\n",
       "      <td>0</td>\n",
       "      <td>1</td>\n",
       "      <td>0</td>\n",
       "      <td>0</td>\n",
       "      <td>0</td>\n",
       "    </tr>\n",
       "    <tr>\n",
       "      <th>4</th>\n",
       "      <td>2.305062</td>\n",
       "      <td>32554</td>\n",
       "      <td>2813.692575</td>\n",
       "      <td>43836</td>\n",
       "      <td>73</td>\n",
       "      <td>12</td>\n",
       "      <td>44</td>\n",
       "      <td>0</td>\n",
       "      <td>1</td>\n",
       "      <td>138.130879</td>\n",
       "      <td>...</td>\n",
       "      <td>0</td>\n",
       "      <td>1</td>\n",
       "      <td>0</td>\n",
       "      <td>0</td>\n",
       "      <td>0</td>\n",
       "      <td>1</td>\n",
       "      <td>0</td>\n",
       "      <td>0</td>\n",
       "      <td>0</td>\n",
       "      <td>0</td>\n",
       "    </tr>\n",
       "    <tr>\n",
       "      <th>...</th>\n",
       "      <td>...</td>\n",
       "      <td>...</td>\n",
       "      <td>...</td>\n",
       "      <td>...</td>\n",
       "      <td>...</td>\n",
       "      <td>...</td>\n",
       "      <td>...</td>\n",
       "      <td>...</td>\n",
       "      <td>...</td>\n",
       "      <td>...</td>\n",
       "      <td>...</td>\n",
       "      <td>...</td>\n",
       "      <td>...</td>\n",
       "      <td>...</td>\n",
       "      <td>...</td>\n",
       "      <td>...</td>\n",
       "      <td>...</td>\n",
       "      <td>...</td>\n",
       "      <td>...</td>\n",
       "      <td>...</td>\n",
       "      <td>...</td>\n",
       "    </tr>\n",
       "    <tr>\n",
       "      <th>9129</th>\n",
       "      <td>2.041998</td>\n",
       "      <td>795868</td>\n",
       "      <td>23405.987980</td>\n",
       "      <td>71941</td>\n",
       "      <td>73</td>\n",
       "      <td>18</td>\n",
       "      <td>89</td>\n",
       "      <td>0</td>\n",
       "      <td>2</td>\n",
       "      <td>198.234764</td>\n",
       "      <td>...</td>\n",
       "      <td>0</td>\n",
       "      <td>0</td>\n",
       "      <td>1</td>\n",
       "      <td>0</td>\n",
       "      <td>0</td>\n",
       "      <td>1</td>\n",
       "      <td>0</td>\n",
       "      <td>0</td>\n",
       "      <td>0</td>\n",
       "      <td>0</td>\n",
       "    </tr>\n",
       "    <tr>\n",
       "      <th>9130</th>\n",
       "      <td>2.041998</td>\n",
       "      <td>795868</td>\n",
       "      <td>3096.511217</td>\n",
       "      <td>21604</td>\n",
       "      <td>79</td>\n",
       "      <td>14</td>\n",
       "      <td>28</td>\n",
       "      <td>0</td>\n",
       "      <td>1</td>\n",
       "      <td>379.200000</td>\n",
       "      <td>...</td>\n",
       "      <td>1</td>\n",
       "      <td>1</td>\n",
       "      <td>0</td>\n",
       "      <td>0</td>\n",
       "      <td>0</td>\n",
       "      <td>1</td>\n",
       "      <td>0</td>\n",
       "      <td>0</td>\n",
       "      <td>0</td>\n",
       "      <td>0</td>\n",
       "    </tr>\n",
       "    <tr>\n",
       "      <th>9131</th>\n",
       "      <td>2.041998</td>\n",
       "      <td>795868</td>\n",
       "      <td>8163.890428</td>\n",
       "      <td>0</td>\n",
       "      <td>85</td>\n",
       "      <td>9</td>\n",
       "      <td>37</td>\n",
       "      <td>3</td>\n",
       "      <td>2</td>\n",
       "      <td>790.784983</td>\n",
       "      <td>...</td>\n",
       "      <td>0</td>\n",
       "      <td>1</td>\n",
       "      <td>0</td>\n",
       "      <td>0</td>\n",
       "      <td>0</td>\n",
       "      <td>0</td>\n",
       "      <td>1</td>\n",
       "      <td>0</td>\n",
       "      <td>0</td>\n",
       "      <td>0</td>\n",
       "    </tr>\n",
       "    <tr>\n",
       "      <th>9132</th>\n",
       "      <td>2.041998</td>\n",
       "      <td>795868</td>\n",
       "      <td>7524.442436</td>\n",
       "      <td>21941</td>\n",
       "      <td>96</td>\n",
       "      <td>34</td>\n",
       "      <td>3</td>\n",
       "      <td>0</td>\n",
       "      <td>3</td>\n",
       "      <td>691.200000</td>\n",
       "      <td>...</td>\n",
       "      <td>0</td>\n",
       "      <td>0</td>\n",
       "      <td>0</td>\n",
       "      <td>1</td>\n",
       "      <td>0</td>\n",
       "      <td>1</td>\n",
       "      <td>0</td>\n",
       "      <td>0</td>\n",
       "      <td>0</td>\n",
       "      <td>0</td>\n",
       "    </tr>\n",
       "    <tr>\n",
       "      <th>9133</th>\n",
       "      <td>2.041998</td>\n",
       "      <td>795868</td>\n",
       "      <td>2611.836866</td>\n",
       "      <td>0</td>\n",
       "      <td>77</td>\n",
       "      <td>3</td>\n",
       "      <td>90</td>\n",
       "      <td>0</td>\n",
       "      <td>1</td>\n",
       "      <td>369.600000</td>\n",
       "      <td>...</td>\n",
       "      <td>0</td>\n",
       "      <td>0</td>\n",
       "      <td>0</td>\n",
       "      <td>0</td>\n",
       "      <td>1</td>\n",
       "      <td>0</td>\n",
       "      <td>1</td>\n",
       "      <td>0</td>\n",
       "      <td>0</td>\n",
       "      <td>0</td>\n",
       "    </tr>\n",
       "  </tbody>\n",
       "</table>\n",
       "<p>9134 rows × 39 columns</p>\n",
       "</div>"
      ],
      "text/plain": [
       "      Accident Severity in State  Number of Accidents in State  \\\n",
       "0                       2.305062                         32554   \n",
       "1                       2.069553                         56504   \n",
       "2                       2.226077                          6197   \n",
       "3                       2.041998                        795868   \n",
       "4                       2.305062                         32554   \n",
       "...                          ...                           ...   \n",
       "9129                    2.041998                        795868   \n",
       "9130                    2.041998                        795868   \n",
       "9131                    2.041998                        795868   \n",
       "9132                    2.041998                        795868   \n",
       "9133                    2.041998                        795868   \n",
       "\n",
       "      Customer Lifetime Value  Income  Monthly Premium Auto  \\\n",
       "0                 2763.519279   56274                    69   \n",
       "1                 6979.535903       0                    94   \n",
       "2                12887.431650   48767                   108   \n",
       "3                 7645.861827       0                   106   \n",
       "4                 2813.692575   43836                    73   \n",
       "...                       ...     ...                   ...   \n",
       "9129             23405.987980   71941                    73   \n",
       "9130              3096.511217   21604                    79   \n",
       "9131              8163.890428       0                    85   \n",
       "9132              7524.442436   21941                    96   \n",
       "9133              2611.836866       0                    77   \n",
       "\n",
       "      Months Since Last Claim  Months Since Policy Inception  \\\n",
       "0                          32                              5   \n",
       "1                          13                             42   \n",
       "2                          18                             38   \n",
       "3                          18                             65   \n",
       "4                          12                             44   \n",
       "...                       ...                            ...   \n",
       "9129                       18                             89   \n",
       "9130                       14                             28   \n",
       "9131                        9                             37   \n",
       "9132                       34                              3   \n",
       "9133                        3                             90   \n",
       "\n",
       "      Number of Open Complaints  Number of Policies  Total Claim Amount  ...  \\\n",
       "0                             0                   1          384.811147  ...   \n",
       "1                             0                   8         1131.464935  ...   \n",
       "2                             0                   2          566.472247  ...   \n",
       "3                             0                   7          529.881344  ...   \n",
       "4                             0                   1          138.130879  ...   \n",
       "...                         ...                 ...                 ...  ...   \n",
       "9129                          0                   2          198.234764  ...   \n",
       "9130                          0                   1          379.200000  ...   \n",
       "9131                          3                   2          790.784983  ...   \n",
       "9132                          0                   3          691.200000  ...   \n",
       "9133                          0                   1          369.600000  ...   \n",
       "\n",
       "     Divorced Offer1  Offer2 Offer3 Offer4 Employed Unemployed Medical Leave  \\\n",
       "0           0      1       0      0      0        1          0             0   \n",
       "1           0      0       0      1      0        0          1             0   \n",
       "2           0      1       0      0      0        1          0             0   \n",
       "3           0      1       0      0      0        0          1             0   \n",
       "4           0      1       0      0      0        1          0             0   \n",
       "...       ...    ...     ...    ...    ...      ...        ...           ...   \n",
       "9129        0      0       1      0      0        1          0             0   \n",
       "9130        1      1       0      0      0        1          0             0   \n",
       "9131        0      1       0      0      0        0          1             0   \n",
       "9132        0      0       0      1      0        1          0             0   \n",
       "9133        0      0       0      0      1        0          1             0   \n",
       "\n",
       "     Disabled Retired  \n",
       "0           0       0  \n",
       "1           0       0  \n",
       "2           0       0  \n",
       "3           0       0  \n",
       "4           0       0  \n",
       "...       ...     ...  \n",
       "9129        0       0  \n",
       "9130        0       0  \n",
       "9131        0       0  \n",
       "9132        0       0  \n",
       "9133        0       0  \n",
       "\n",
       "[9134 rows x 39 columns]"
      ]
     },
     "execution_count": 61,
     "metadata": {},
     "output_type": "execute_result"
    }
   ],
   "source": [
    "#\n",
    "#\n",
    "#\n",
    "#\n",
    "#\n",
    "#\n",
    "def catecode(column_name):\n",
    "    allcategory=list(df[column_name].unique())\n",
    "    print(allcategory)\n",
    "    #add new column\n",
    "    for i in allcategory:\n",
    "        all[i]=0\n",
    "    #update value\n",
    "    for i in all.index:\n",
    "        if all.loc[i,column_name]==allcategory[0]:\n",
    "            all.loc[i,allcategory[0]]=1\n",
    "        #other catogories\n",
    "        c=1\n",
    "        while c < len(allcategory):\n",
    "            if all.loc[i,column_name]==allcategory[c]:\n",
    "                all.loc[i,allcategory[c]]=1\n",
    "            c+=1\n",
    "#\n",
    "#\n",
    "#\n",
    "#\n",
    "#\n",
    "catecode('EmploymentStatus')\n",
    "all"
   ]
  },
  {
   "cell_type": "code",
   "execution_count": 62,
   "id": "bbfc83bd",
   "metadata": {},
   "outputs": [
    {
     "data": {
      "text/plain": [
       "Text(0.5, 1.0, 'Avearage Employed')"
      ]
     },
     "execution_count": 62,
     "metadata": {},
     "output_type": "execute_result"
    },
    {
     "data": {
      "image/png": "[encoded data removed]",
      "text/plain": [
       "<Figure size 432x288 with 1 Axes>"
      ]
     },
     "metadata": {
      "needs_background": "light"
     },
     "output_type": "display_data"
    }
   ],
   "source": [
    "sns.barplot(x='Label',y='Employed',data=all,orient='v')\n",
    "plt.title('Avearage Employed')"
   ]
  },
  {
   "cell_type": "code",
   "execution_count": 63,
   "id": "f018232b",
   "metadata": {},
   "outputs": [
    {
     "data": {
      "text/plain": [
       "Text(0.5, 1.0, 'Avearage Unemployed')"
      ]
     },
     "execution_count": 63,
     "metadata": {},
     "output_type": "execute_result"
    },
    {
     "data": {
      "image/png": "[encoded data removed]",
      "text/plain": [
       "<Figure size 432x288 with 1 Axes>"
      ]
     },
     "metadata": {
      "needs_background": "light"
     },
     "output_type": "display_data"
    }
   ],
   "source": [
    "sns.barplot(x='Label',y='Unemployed',data=all,orient='v', palette = \"Purples\")\n",
    "plt.title('Avearage Unemployed')"
   ]
  },
  {
   "cell_type": "code",
   "execution_count": 64,
   "id": "f459d500",
   "metadata": {},
   "outputs": [
    {
     "data": {
      "text/plain": [
       "Text(0.5, 1.0, 'Avearage Medical Leave')"
      ]
     },
     "execution_count": 64,
     "metadata": {},
     "output_type": "execute_result"
    },
    {
     "data": {
      "image/png": "[encoded data removed]",
      "text/plain": [
       "<Figure size 432x288 with 1 Axes>"
      ]
     },
     "metadata": {
      "needs_background": "light"
     },
     "output_type": "display_data"
    }
   ],
   "source": [
    "sns.barplot(x='Label',y='Medical Leave',data=all,orient='v')\n",
    "plt.title('Avearage Medical Leave')"
   ]
  },
  {
   "cell_type": "code",
   "execution_count": 65,
   "id": "43abbef4",
   "metadata": {},
   "outputs": [
    {
     "data": {
      "text/plain": [
       "Text(0.5, 1.0, 'Avearage Disabled')"
      ]
     },
     "execution_count": 65,
     "metadata": {},
     "output_type": "execute_result"
    },
    {
     "data": {
      "image/png": "[encoded data removed]",
      "text/plain": [
       "<Figure size 432x288 with 1 Axes>"
      ]
     },
     "metadata": {
      "needs_background": "light"
     },
     "output_type": "display_data"
    }
   ],
   "source": [
    "\n",
    "sns.barplot(x='Label',y='Disabled',data=all,orient='v')\n",
    "plt.title('Avearage Disabled')"
   ]
  },
  {
   "cell_type": "code",
   "execution_count": 66,
   "id": "5b986757",
   "metadata": {},
   "outputs": [
    {
     "data": {
      "text/plain": [
       "Text(0.5, 1.0, 'Avearage Retired')"
      ]
     },
     "execution_count": 66,
     "metadata": {},
     "output_type": "execute_result"
    },
    {
     "data": {
      "image/png": "[encoded data removed]",
      "text/plain": [
       "<Figure size 432x288 with 1 Axes>"
      ]
     },
     "metadata": {
      "needs_background": "light"
     },
     "output_type": "display_data"
    }
   ],
   "source": [
    "sns.barplot(x='Label',y='Retired',data=all,orient='v')\n",
    "plt.title('Avearage Retired')"
   ]
  },
  {
   "cell_type": "code",
   "execution_count": 67,
   "id": "f2371d4e",
   "metadata": {},
   "outputs": [
    {
     "name": "stdout",
     "output_type": "stream",
     "text": [
      "['Suburban', 'Rural', 'Urban']\n"
     ]
    }
   ],
   "source": [
    "catecode('Location Code')"
   ]
  },
  {
   "cell_type": "code",
   "execution_count": 68,
   "id": "d341ffd4",
   "metadata": {},
   "outputs": [
    {
     "data": {
      "text/plain": [
       "Label\n",
       "0    2910\n",
       "1    2869\n",
       "dtype: int64"
      ]
     },
     "execution_count": 68,
     "metadata": {},
     "output_type": "execute_result"
    }
   ],
   "source": [
    "Suburban=all[all['Location Code']=='Suburban']\n",
    "gb_sub=Suburban.groupby('Label').size()\n",
    "gb_sub"
   ]
  },
  {
   "cell_type": "code",
   "execution_count": 69,
   "id": "4bc4e6f7",
   "metadata": {},
   "outputs": [
    {
     "data": {
      "text/plain": [
       "Label\n",
       "0    816\n",
       "1    957\n",
       "dtype: int64"
      ]
     },
     "execution_count": 69,
     "metadata": {},
     "output_type": "execute_result"
    }
   ],
   "source": [
    "Rural=all[all['Location Code']=='Rural']\n",
    "gb_rur=Rural.groupby('Label').size()\n",
    "gb_rur"
   ]
  },
  {
   "cell_type": "code",
   "execution_count": 70,
   "id": "11eddad7",
   "metadata": {},
   "outputs": [
    {
     "data": {
      "text/plain": [
       "Label\n",
       "0    748\n",
       "1    834\n",
       "dtype: int64"
      ]
     },
     "execution_count": 70,
     "metadata": {},
     "output_type": "execute_result"
    }
   ],
   "source": [
    "Rural=all[all['Location Code']=='Urban']\n",
    "gb_rur=Rural.groupby('Label').size()\n",
    "gb_rur"
   ]
  },
  {
   "cell_type": "code",
   "execution_count": 71,
   "id": "0f81ef0e",
   "metadata": {},
   "outputs": [
    {
     "name": "stdout",
     "output_type": "stream",
     "text": [
      "['Two-Door Car', 'Four-Door Car', 'SUV', 'Luxury SUV', 'Sports Car', 'Luxury Car']\n"
     ]
    }
   ],
   "source": [
    "catecode('Vehicle Class')"
   ]
  },
  {
   "cell_type": "code",
   "execution_count": 72,
   "id": "3755607c",
   "metadata": {},
   "outputs": [],
   "source": [
    "lux_suv=all[all['Vehicle Class']=='Luxury SUV']\n",
    "gb=lux_suv.groupby('Label').size()\n",
    "#sns.barplot(x='Label',y='Luxury SUV',data=all,orient='v', palette = \"Purples\")\n",
    "#plt.title('Luxury SUV')"
   ]
  },
  {
   "cell_type": "code",
   "execution_count": 73,
   "id": "7c242602",
   "metadata": {},
   "outputs": [
    {
     "data": {
      "image/png": "[encoded data removed]",
      "text/plain": [
       "<Figure size 432x288 with 1 Axes>"
      ]
     },
     "metadata": {},
     "output_type": "display_data"
    }
   ],
   "source": [
    "plt.pie([184],labels=['Cluster2'], textprops = {'fontsize':14}, colors=['mediumpurple'])\n",
    "#plt.legend()\n",
    "plt.title('Luxury SUV', fontsize=15)\n",
    "plt.show()"
   ]
  },
  {
   "cell_type": "code",
   "execution_count": 74,
   "id": "abcbdbff",
   "metadata": {},
   "outputs": [
    {
     "data": {
      "text/plain": [
       "Label\n",
       "0    124\n",
       "1     39\n",
       "dtype: int64"
      ]
     },
     "execution_count": 74,
     "metadata": {},
     "output_type": "execute_result"
    }
   ],
   "source": [
    "lux_car=all[all['Vehicle Class']=='Luxury Car']\n",
    "gb=lux_car.groupby('Label').size()\n",
    "gb\n",
    "#sns.barplot(x='Label',y='Luxury Car',data=all,orient='v', palette = \"Purples\")\n",
    "#plt.title('Luxury Car')"
   ]
  },
  {
   "cell_type": "code",
   "execution_count": 75,
   "id": "75233298",
   "metadata": {},
   "outputs": [
    {
     "data": {
      "image/png": "[encoded data removed]",
      "text/plain": [
       "<Figure size 432x288 with 1 Axes>"
      ]
     },
     "metadata": {},
     "output_type": "display_data"
    }
   ],
   "source": [
    "plt.pie([39,124],labels=['Cluster1', 'Cluster2'], textprops = {'fontsize':14}, colors=['lavender', 'mediumpurple'])\n",
    "#plt.legend()\n",
    "plt.title('Luxury Car', fontsize=15)\n",
    "plt.show()"
   ]
  },
  {
   "cell_type": "code",
   "execution_count": 76,
   "id": "9dbe8c0d",
   "metadata": {},
   "outputs": [
    {
     "data": {
      "text/plain": [
       "Label\n",
       "0    1886\n",
       "dtype: int64"
      ]
     },
     "execution_count": 76,
     "metadata": {},
     "output_type": "execute_result"
    }
   ],
   "source": [
    "td_car=all[all['Vehicle Class']=='Two-Door Car']\n",
    "gb=td_car.groupby('Label').size()\n",
    "gb\n",
    "\n",
    "#sns.barplot(x='Label',y='Two-Door Car',data=all,orient='v')\n",
    "#plt.title('Two-Door Car')"
   ]
  },
  {
   "cell_type": "code",
   "execution_count": 77,
   "id": "b7871e05",
   "metadata": {},
   "outputs": [
    {
     "data": {
      "image/png": "[encoded data removed]",
      "text/plain": [
       "<Figure size 432x288 with 1 Axes>"
      ]
     },
     "metadata": {},
     "output_type": "display_data"
    }
   ],
   "source": [
    "plt.pie([1886],labels=['Cluster1'], textprops = {'fontsize':14}, colors=['lavender'])\n",
    "#plt.legend()\n",
    "plt.title('Two-Door Car', fontsize=15)\n",
    "plt.show()"
   ]
  },
  {
   "cell_type": "code",
   "execution_count": null,
   "id": "a152b259",
   "metadata": {},
   "outputs": [],
   "source": []
  },
  {
   "cell_type": "code",
   "execution_count": null,
   "id": "5b797ded",
   "metadata": {},
   "outputs": [],
   "source": []
  }
 ],
 "metadata": {
  "kernelspec": {
   "display_name": "Python 3 (ipykernel)",
   "language": "python",
   "name": "python3"
  },
  "language_info": {
   "codemirror_mode": {
    "name": "ipython",
    "version": 3
   },
   "file_extension": ".py",
   "mimetype": "text/x-python",
   "name": "python",
   "nbconvert_exporter": "python",
   "pygments_lexer": "ipython3",
   "version": "3.9.12"
  }
 },
 "nbformat": 4,
 "nbformat_minor": 5
}
